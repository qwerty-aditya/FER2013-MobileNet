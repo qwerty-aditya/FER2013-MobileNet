{
 "cells": [
  {
   "cell_type": "markdown",
   "metadata": {},
   "source": [
    "# Q6.Implement Convolutional Neural Networks (CNN) algorithm."
   ]
  },
  {
   "cell_type": "code",
   "execution_count": 1,
   "metadata": {
    "id": "EUM_m_2R4DNh"
   },
   "outputs": [],
   "source": [
    "import pathlib\n",
    "import numpy as np"
   ]
  },
  {
   "cell_type": "code",
   "execution_count": 2,
   "metadata": {
    "colab": {
     "base_uri": "https://localhost:8080/"
    },
    "id": "dl38x2IrKpry",
    "outputId": "b0368d42-2657-44d5-8474-8825bd28a6ff"
   },
   "outputs": [
    {
     "name": "stdout",
     "output_type": "stream",
     "text": [
      "Requirement already satisfied: scikit-plot in /usr/local/lib/python3.7/dist-packages (0.3.7)\n",
      "Requirement already satisfied: matplotlib>=1.4.0 in /usr/local/lib/python3.7/dist-packages (from scikit-plot) (3.2.2)\n",
      "Requirement already satisfied: scikit-learn>=0.18 in /usr/local/lib/python3.7/dist-packages (from scikit-plot) (1.0.2)\n",
      "Requirement already satisfied: scipy>=0.9 in /usr/local/lib/python3.7/dist-packages (from scikit-plot) (1.4.1)\n",
      "Requirement already satisfied: joblib>=0.10 in /usr/local/lib/python3.7/dist-packages (from scikit-plot) (1.1.0)\n",
      "Requirement already satisfied: numpy>=1.11 in /usr/local/lib/python3.7/dist-packages (from matplotlib>=1.4.0->scikit-plot) (1.21.5)\n",
      "Requirement already satisfied: pyparsing!=2.0.4,!=2.1.2,!=2.1.6,>=2.0.1 in /usr/local/lib/python3.7/dist-packages (from matplotlib>=1.4.0->scikit-plot) (3.0.7)\n",
      "Requirement already satisfied: kiwisolver>=1.0.1 in /usr/local/lib/python3.7/dist-packages (from matplotlib>=1.4.0->scikit-plot) (1.4.0)\n",
      "Requirement already satisfied: cycler>=0.10 in /usr/local/lib/python3.7/dist-packages (from matplotlib>=1.4.0->scikit-plot) (0.11.0)\n",
      "Requirement already satisfied: python-dateutil>=2.1 in /usr/local/lib/python3.7/dist-packages (from matplotlib>=1.4.0->scikit-plot) (2.8.2)\n",
      "Requirement already satisfied: typing-extensions in /usr/local/lib/python3.7/dist-packages (from kiwisolver>=1.0.1->matplotlib>=1.4.0->scikit-plot) (3.10.0.2)\n",
      "Requirement already satisfied: six>=1.5 in /usr/local/lib/python3.7/dist-packages (from python-dateutil>=2.1->matplotlib>=1.4.0->scikit-plot) (1.15.0)\n",
      "Requirement already satisfied: threadpoolctl>=2.0.0 in /usr/local/lib/python3.7/dist-packages (from scikit-learn>=0.18->scikit-plot) (3.1.0)\n"
     ]
    }
   ],
   "source": [
    "pip install scikit-plot"
   ]
  },
  {
   "cell_type": "code",
   "execution_count": 3,
   "metadata": {
    "id": "-AXebsSjJp1G"
   },
   "outputs": [],
   "source": [
    "import seaborn as sns\n",
    "from matplotlib import pyplot\n",
    "import scikitplot\n",
    "from sklearn.metrics import classification_report"
   ]
  },
  {
   "cell_type": "code",
   "execution_count": 4,
   "metadata": {
    "id": "ZEbDFbYmTYA7"
   },
   "outputs": [],
   "source": [
    "import cv2"
   ]
  },
  {
   "cell_type": "code",
   "execution_count": 5,
   "metadata": {
    "id": "OPBmbqSW4dER"
   },
   "outputs": [],
   "source": [
    "import tensorflow as tf"
   ]
  },
  {
   "cell_type": "code",
   "execution_count": 6,
   "metadata": {
    "colab": {
     "base_uri": "https://localhost:8080/"
    },
    "id": "bY9izhA-4dkR",
    "outputId": "a94f91dc-603b-43c8-e9aa-fea5c8c5906b"
   },
   "outputs": [
    {
     "name": "stdout",
     "output_type": "stream",
     "text": [
      "2.8.0\n"
     ]
    }
   ],
   "source": [
    "print(tf.__version__)"
   ]
  },
  {
   "cell_type": "code",
   "execution_count": 7,
   "metadata": {
    "id": "REwkquCB4go6"
   },
   "outputs": [],
   "source": [
    "from tensorflow import keras\n",
    "from keras.callbacks import EarlyStopping"
   ]
  },
  {
   "cell_type": "code",
   "execution_count": 8,
   "metadata": {
    "id": "ZHP9jn6i4uGF"
   },
   "outputs": [],
   "source": [
    "import IPython.display as display\n",
    "from PIL import Image\n",
    "import numpy as np\n",
    "import matplotlib.pyplot as plt\n",
    "import os"
   ]
  },
  {
   "cell_type": "code",
   "execution_count": 20,
   "metadata": {
    "colab": {
     "base_uri": "https://localhost:8080/",
     "height": 91,
     "resources": {
      "http://localhost:8080/nbextensions/google.colab/files.js": {
       "data": "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",
       "headers": [
        [
         "content-type",
         "application/javascript"
        ]
       ],
       "ok": true,
       "status": 200,
       "status_text": ""
      }
     }
    },
    "id": "FhxLFO4j4xZi",
    "outputId": "bebadd07-d9b7-425c-c423-9c0b922c8a35"
   },
   "outputs": [
    {
     "data": {
      "text/html": [
       "\n",
       "     <input type=\"file\" id=\"files-ea4cfbbd-2412-4af3-900e-d12f031cb27d\" name=\"files[]\" multiple disabled\n",
       "        style=\"border:none\" />\n",
       "     <output id=\"result-ea4cfbbd-2412-4af3-900e-d12f031cb27d\">\n",
       "      Upload widget is only available when the cell has been executed in the\n",
       "      current browser session. Please rerun this cell to enable.\n",
       "      </output>\n",
       "      <script src=\"/nbextensions/google.colab/files.js\"></script> "
      ],
      "text/plain": [
       "<IPython.core.display.HTML object>"
      ]
     },
     "metadata": {},
     "output_type": "display_data"
    },
    {
     "name": "stdout",
     "output_type": "stream",
     "text": [
      "Saving kaggle.json to kaggle.json\n",
      "User uploaded file \"kaggle.json\" with length 69 bytes\n"
     ]
    }
   ],
   "source": [
    "from google.colab import files\n",
    "\n",
    "uploaded = files.upload()\n",
    "\n",
    "for fn in uploaded.keys():\n",
    "  print('User uploaded file \"{name}\" with length {length} bytes'.format(\n",
    "      name=fn, length=len(uploaded[fn])))"
   ]
  },
  {
   "cell_type": "code",
   "execution_count": 21,
   "metadata": {
    "id": "lEfhCZeE5BUe"
   },
   "outputs": [],
   "source": [
    "!pip install -q kaggle"
   ]
  },
  {
   "cell_type": "code",
   "execution_count": 22,
   "metadata": {
    "id": "YTgHs9585Gq4"
   },
   "outputs": [],
   "source": [
    "# The Kaggle API client expects this file to be in ~/.kaggle,\n",
    "# so move it there.\n",
    "!mkdir -p ~/.kaggle\n",
    "!cp kaggle.json ~/.kaggle/\n",
    "# This permissions change avoids a warning on Kaggle tool startup.\n",
    "!chmod 600 ~/.kaggle/kaggle.json"
   ]
  },
  {
   "cell_type": "code",
   "execution_count": 23,
   "metadata": {
    "colab": {
     "base_uri": "https://localhost:8080/"
    },
    "id": "vi4JZZwN5R9k",
    "outputId": "eb31bace-a94a-4c79-d7d7-233351d7ef26"
   },
   "outputs": [
    {
     "name": "stdout",
     "output_type": "stream",
     "text": [
      "dataset  kaggle.json  sample_data\n"
     ]
    }
   ],
   "source": [
    "!ls"
   ]
  },
  {
   "cell_type": "code",
   "execution_count": 24,
   "metadata": {
    "colab": {
     "base_uri": "https://localhost:8080/"
    },
    "id": "AH_jXl9y5tqb",
    "outputId": "a0197af5-8d99-4a11-8bab-f099f562e173"
   },
   "outputs": [
    {
     "name": "stdout",
     "output_type": "stream",
     "text": [
      "Downloading fer13-cleaned-dataset.zip to /content\n",
      " 18% 5.00M/28.2M [00:01<00:05, 4.09MB/s]\n",
      "100% 28.2M/28.2M [00:01<00:00, 21.6MB/s]\n"
     ]
    }
   ],
   "source": [
    "!kaggle datasets download -d gauravsharma99/fer13-cleaned-dataset"
   ]
  },
  {
   "cell_type": "code",
   "execution_count": 25,
   "metadata": {
    "id": "8aEF86U-6DLK"
   },
   "outputs": [],
   "source": [
    "%mkdir -p dataset/"
   ]
  },
  {
   "cell_type": "code",
   "execution_count": 26,
   "metadata": {
    "id": "iuDKeekR6K2S"
   },
   "outputs": [],
   "source": [
    "!unzip -q fer13-cleaned-dataset.zip -d dataset/"
   ]
  },
  {
   "cell_type": "code",
   "execution_count": 27,
   "metadata": {
    "colab": {
     "base_uri": "https://localhost:8080/"
    },
    "id": "ZJQFcIImSRm9",
    "outputId": "c6990842-3c12-4867-8107-dcd292953d2a"
   },
   "outputs": [
    {
     "name": "stdout",
     "output_type": "stream",
     "text": [
      "/content\n"
     ]
    }
   ],
   "source": [
    "!pwd"
   ]
  },
  {
   "cell_type": "code",
   "execution_count": 28,
   "metadata": {
    "id": "2kKAavd5RklV"
   },
   "outputs": [],
   "source": [
    "INPUT_PATH = \"/content/dataset/\""
   ]
  },
  {
   "cell_type": "code",
   "execution_count": 29,
   "metadata": {
    "colab": {
     "base_uri": "https://localhost:8080/"
    },
    "id": "mj_nX6cj6W0o",
    "outputId": "3d5dd19f-9923-4630-8e63-62407a6c0c4f"
   },
   "outputs": [
    {
     "name": "stdout",
     "output_type": "stream",
     "text": [
      "fear has 2535 number of images\n",
      "Happy has 6834 number of images\n",
      "Neutral has 4295 number of images\n",
      "disgust has 380 number of images\n",
      "Angry has 2832 number of images\n",
      "\n",
      "total images are 16876\n"
     ]
    }
   ],
   "source": [
    "total_images = 0\n",
    "for dir_ in os.listdir(INPUT_PATH):\n",
    "    count = 0\n",
    "    for f in os.listdir(INPUT_PATH + dir_ + \"/\"):\n",
    "        count += 1\n",
    "        total_images += 1\n",
    "    print(f\"{dir_} has {count} number of images\")\n",
    "    \n",
    "print(f\"\\ntotal images are {total_images}\")"
   ]
  },
  {
   "cell_type": "code",
   "execution_count": 30,
   "metadata": {
    "colab": {
     "base_uri": "https://localhost:8080/"
    },
    "id": "Yc2zQPBfSPsO",
    "outputId": "f46407a3-09d9-4b27-8264-41866c54d739"
   },
   "outputs": [
    {
     "data": {
      "text/plain": [
       "16496"
      ]
     },
     "execution_count": 30,
     "metadata": {},
     "output_type": "execute_result"
    }
   ],
   "source": [
    "TOP_EMOTIONS = [\"fear\", \"Happy\", \"Neutral\", \"Angry\"]\n",
    "total_images -= 380\n",
    "total_images"
   ]
  },
  {
   "cell_type": "code",
   "execution_count": 31,
   "metadata": {
    "colab": {
     "base_uri": "https://localhost:8080/"
    },
    "id": "BVY-50TySzs2",
    "outputId": "87494fb8-7af0-4834-a5b0-cb165b1eb6af"
   },
   "outputs": [
    {
     "name": "stdout",
     "output_type": "stream",
     "text": [
      "loaded all fear images to numpy arrays\n",
      "loaded all Happy images to numpy arrays\n",
      "loaded all Neutral images to numpy arrays\n",
      "loaded all Angry images to numpy arrays\n"
     ]
    },
    {
     "data": {
      "text/plain": [
       "((16496, 48, 48, 3), array([0., 0., 0., ..., 3., 3., 3.]))"
      ]
     },
     "execution_count": 31,
     "metadata": {},
     "output_type": "execute_result"
    }
   ],
   "source": [
    "img_arr = np.empty(shape=(total_images,48,48,3))\n",
    "img_label = np.empty(shape=(total_images))\n",
    "label_to_text = {}\n",
    "\n",
    "i = 0\n",
    "e = 0\n",
    "for dir_ in os.listdir(INPUT_PATH):\n",
    "    if dir_ in TOP_EMOTIONS:\n",
    "        label_to_text[e] = dir_\n",
    "        for f in os.listdir(INPUT_PATH + dir_ + \"/\"):\n",
    "            img_arr[i] = cv2.imread(INPUT_PATH + dir_ + \"/\" + f)\n",
    "            img_label[i] = e\n",
    "            i += 1\n",
    "        print(f\"loaded all {dir_} images to numpy arrays\")\n",
    "        e += 1\n",
    "\n",
    "img_arr.shape, img_label"
   ]
  },
  {
   "cell_type": "code",
   "execution_count": 32,
   "metadata": {
    "colab": {
     "base_uri": "https://localhost:8080/"
    },
    "id": "9P5CRYUZURkb",
    "outputId": "fe765be0-0354-4e43-b7ef-38b24145408c"
   },
   "outputs": [
    {
     "data": {
      "text/plain": [
       "((16496, 48, 48, 3), (16496,))"
      ]
     },
     "execution_count": 32,
     "metadata": {},
     "output_type": "execute_result"
    }
   ],
   "source": [
    "img_arr.shape, img_label.shape"
   ]
  },
  {
   "cell_type": "code",
   "execution_count": 33,
   "metadata": {
    "id": "wL_FZfe1Uc_3"
   },
   "outputs": [],
   "source": [
    "img_arr = img_arr/255"
   ]
  },
  {
   "cell_type": "code",
   "execution_count": 34,
   "metadata": {
    "colab": {
     "base_uri": "https://localhost:8080/"
    },
    "id": "ALi2aSL9UiZh",
    "outputId": "6d519c06-e112-4ffa-ad99-d72a6db75de3"
   },
   "outputs": [
    {
     "data": {
      "text/plain": [
       "(16496, 4)"
      ]
     },
     "execution_count": 34,
     "metadata": {},
     "output_type": "execute_result"
    }
   ],
   "source": [
    "img_label = keras.utils.to_categorical(img_label)\n",
    "img_label.shape"
   ]
  },
  {
   "cell_type": "code",
   "execution_count": 35,
   "metadata": {
    "id": "1eAgUj7RVthg"
   },
   "outputs": [],
   "source": [
    "from sklearn.model_selection import train_test_split"
   ]
  },
  {
   "cell_type": "markdown",
   "metadata": {
    "id": "bgUgWQ2q4pLv"
   },
   "source": [
    "training and testing splits"
   ]
  },
  {
   "cell_type": "code",
   "execution_count": 36,
   "metadata": {
    "colab": {
     "base_uri": "https://localhost:8080/"
    },
    "id": "EG7o6AiWUrkp",
    "outputId": "3ef2428a-c03a-4ce1-c96c-91626c7622f2"
   },
   "outputs": [
    {
     "data": {
      "text/plain": [
       "((14846, 48, 48, 3), (1650, 48, 48, 3), (14846, 4), (1650, 4))"
      ]
     },
     "execution_count": 36,
     "metadata": {},
     "output_type": "execute_result"
    }
   ],
   "source": [
    "X_train, X_test, y_train, y_test = train_test_split(img_arr, img_label,\n",
    "                                                    shuffle=True, stratify=img_label,\n",
    "                                                    train_size=0.9, random_state=42)\n",
    "X_train.shape, X_test.shape, y_train.shape, y_test.shape"
   ]
  },
  {
   "cell_type": "code",
   "execution_count": 37,
   "metadata": {
    "colab": {
     "base_uri": "https://localhost:8080/"
    },
    "id": "_uykyGZY4vA1",
    "outputId": "f1357c89-d374-4781-f9eb-c3027ebad020"
   },
   "outputs": [
    {
     "data": {
      "text/plain": [
       "((12619, 48, 48, 3), (2227, 48, 48, 3), (12619, 4), (2227, 4))"
      ]
     },
     "execution_count": 37,
     "metadata": {},
     "output_type": "execute_result"
    }
   ],
   "source": [
    "X_train, X_val, y_train, y_val = train_test_split(X_train, y_train,\n",
    "                                                    shuffle=True, stratify=y_train,\n",
    "                                                    train_size=0.85, random_state=42)\n",
    "X_train.shape, X_val.shape, y_train.shape, y_val.shape"
   ]
  },
  {
   "cell_type": "code",
   "execution_count": 38,
   "metadata": {
    "id": "J089NhdFVY4c"
   },
   "outputs": [],
   "source": [
    "img_width = X_train.shape[1]\n",
    "img_height = X_train.shape[2]\n",
    "img_depth = X_train.shape[3]\n",
    "num_classes = y_train.shape[1]"
   ]
  },
  {
   "cell_type": "code",
   "execution_count": 39,
   "metadata": {
    "colab": {
     "base_uri": "https://localhost:8080/"
    },
    "id": "TUz3lZw2-FyN",
    "outputId": "a78f238a-d1d4-4f2d-c045-dbbaa1ee9cce"
   },
   "outputs": [
    {
     "data": {
      "text/plain": [
       "4"
      ]
     },
     "execution_count": 39,
     "metadata": {},
     "output_type": "execute_result"
    }
   ],
   "source": [
    "num_classes"
   ]
  },
  {
   "cell_type": "code",
   "execution_count": 40,
   "metadata": {
    "colab": {
     "base_uri": "https://localhost:8080/"
    },
    "id": "gV4pBFbqV-Vk",
    "outputId": "40038c91-cf7a-4965-e356-1013ae0b00bd"
   },
   "outputs": [
    {
     "name": "stdout",
     "output_type": "stream",
     "text": [
      "WARNING:tensorflow:`input_shape` is undefined or non-square, or `rows` is not in [96, 128, 160, 192, 224]. Weights for input shape (224, 224) will be loaded as the default.\n",
      "Downloading data from https://storage.googleapis.com/tensorflow/keras-applications/mobilenet_v2/mobilenet_v2_weights_tf_dim_ordering_tf_kernels_1.0_224_no_top.h5\n",
      "9412608/9406464 [==============================] - 0s 0us/step\n",
      "9420800/9406464 [==============================] - 0s 0us/step\n"
     ]
    }
   ],
   "source": [
    "mobilenetV2 = keras.applications.mobilenet_v2.MobileNetV2(\n",
    "    input_shape = (img_width, img_height, img_depth),\n",
    "    include_top = False,\n",
    "    weights = \"imagenet\",\n",
    "    classes = num_classes\n",
    ")\n",
    "\n",
    "x = mobilenetV2.layers[-5].output\n",
    "global_pool = keras.layers.GlobalMaxPool2D(name=\"global_pool\")(x)\n",
    "out = keras.layers.Dense(num_classes, activation=\"softmax\", name=\"out_layer\")(global_pool)\n",
    "\n",
    "model = keras.models.Model(inputs=mobilenetV2.input, outputs=out)"
   ]
  },
  {
   "cell_type": "code",
   "execution_count": 41,
   "metadata": {
    "id": "XC0BPcdZ5bHv"
   },
   "outputs": [],
   "source": [
    "for layer in model.layers[:15]:\n",
    "    layer.trainable = False"
   ]
  },
  {
   "cell_type": "code",
   "execution_count": 42,
   "metadata": {
    "id": "vajOHgSYDNEk"
   },
   "outputs": [],
   "source": [
    "train_datagen = keras.preprocessing.image.ImageDataGenerator(\n",
    "    rotation_range=15,\n",
    "    width_shift_range=0.15,\n",
    "    height_shift_range=0.15,\n",
    "    shear_range=0.15,\n",
    "    zoom_range=0.15,\n",
    "    horizontal_flip=True,\n",
    "    zca_whitening=False,\n",
    ")\n",
    "train_datagen.fit(X_train)"
   ]
  },
  {
   "cell_type": "code",
   "execution_count": 43,
   "metadata": {
    "id": "wlYJl7wqsQWt"
   },
   "outputs": [],
   "source": [
    "filepath=\"/content/mobilenetV2-{epoch:02d}-{val_accuracy:.2f}.hdf5\""
   ]
  },
  {
   "cell_type": "code",
   "execution_count": 44,
   "metadata": {
    "id": "jFMpgcV3o1e9"
   },
   "outputs": [],
   "source": [
    "model_checkpoint_callback = keras.callbacks.ModelCheckpoint(\n",
    "    filepath = filepath,\n",
    "    save_weights_only=True,\n",
    "    monitor='val_accuracy',\n",
    "    mode='max',\n",
    "    save_best_only=True)"
   ]
  },
  {
   "cell_type": "code",
   "execution_count": 45,
   "metadata": {
    "colab": {
     "base_uri": "https://localhost:8080/"
    },
    "id": "ekTn_WScDa5k",
    "outputId": "331d40ca-cd8c-4be3-d610-0e369cf0b752"
   },
   "outputs": [
    {
     "name": "stdout",
     "output_type": "stream",
     "text": [
      "Epoch 1/160\n",
      "788/788 [==============================] - 47s 41ms/step - loss: 1.4388 - accuracy: 0.4757 - val_loss: 1.0305 - val_accuracy: 0.6201\n",
      "Epoch 2/160\n",
      "788/788 [==============================] - 30s 38ms/step - loss: 0.9666 - accuracy: 0.6088 - val_loss: 0.9888 - val_accuracy: 0.6044\n",
      "Epoch 3/160\n",
      "788/788 [==============================] - 30s 37ms/step - loss: 0.9015 - accuracy: 0.6443 - val_loss: 0.9263 - val_accuracy: 0.6655\n",
      "Epoch 4/160\n",
      "788/788 [==============================] - 29s 37ms/step - loss: 0.8778 - accuracy: 0.6527 - val_loss: 1.0198 - val_accuracy: 0.6255\n",
      "Epoch 5/160\n",
      "788/788 [==============================] - 30s 37ms/step - loss: 0.8489 - accuracy: 0.6685 - val_loss: 1.5507 - val_accuracy: 0.5321\n",
      "Epoch 6/160\n",
      "788/788 [==============================] - 29s 37ms/step - loss: 0.8347 - accuracy: 0.6714 - val_loss: 1.0475 - val_accuracy: 0.6592\n",
      "Epoch 7/160\n",
      "788/788 [==============================] - 30s 37ms/step - loss: 0.8193 - accuracy: 0.6811 - val_loss: 1.1690 - val_accuracy: 0.5775\n",
      "Epoch 8/160\n",
      "788/788 [==============================] - 30s 38ms/step - loss: 0.8156 - accuracy: 0.6802 - val_loss: 1.0238 - val_accuracy: 0.6547\n",
      "Epoch 9/160\n",
      "788/788 [==============================] - 30s 37ms/step - loss: 0.7931 - accuracy: 0.6938 - val_loss: 1.0168 - val_accuracy: 0.6632\n",
      "Epoch 10/160\n",
      "788/788 [==============================] - 30s 38ms/step - loss: 0.7860 - accuracy: 0.6909 - val_loss: 0.9610 - val_accuracy: 0.7023\n",
      "Epoch 11/160\n",
      "788/788 [==============================] - 30s 38ms/step - loss: 0.7668 - accuracy: 0.6989 - val_loss: 0.8592 - val_accuracy: 0.7000\n",
      "Epoch 12/160\n",
      "788/788 [==============================] - 30s 38ms/step - loss: 0.7517 - accuracy: 0.7079 - val_loss: 0.9382 - val_accuracy: 0.6897\n",
      "Epoch 13/160\n",
      "788/788 [==============================] - 30s 38ms/step - loss: 0.7428 - accuracy: 0.7123 - val_loss: 0.8062 - val_accuracy: 0.7279\n",
      "Epoch 14/160\n",
      "788/788 [==============================] - 30s 38ms/step - loss: 0.7286 - accuracy: 0.7159 - val_loss: 0.7927 - val_accuracy: 0.7032\n",
      "Epoch 15/160\n",
      "788/788 [==============================] - 30s 38ms/step - loss: 0.7207 - accuracy: 0.7204 - val_loss: 0.8284 - val_accuracy: 0.6834\n",
      "Epoch 16/160\n",
      "788/788 [==============================] - 29s 37ms/step - loss: 0.7092 - accuracy: 0.7265 - val_loss: 0.7978 - val_accuracy: 0.7005\n",
      "Epoch 17/160\n",
      "788/788 [==============================] - 30s 37ms/step - loss: 0.7056 - accuracy: 0.7264 - val_loss: 0.7850 - val_accuracy: 0.7086\n",
      "Epoch 18/160\n",
      "788/788 [==============================] - 29s 37ms/step - loss: 0.6908 - accuracy: 0.7331 - val_loss: 0.8072 - val_accuracy: 0.7014\n",
      "Epoch 19/160\n",
      "788/788 [==============================] - 29s 37ms/step - loss: 0.6926 - accuracy: 0.7291 - val_loss: 0.7924 - val_accuracy: 0.7063\n",
      "Epoch 20/160\n",
      "788/788 [==============================] - 30s 37ms/step - loss: 0.6807 - accuracy: 0.7376 - val_loss: 0.8523 - val_accuracy: 0.6879\n",
      "Epoch 21/160\n",
      "788/788 [==============================] - 28s 36ms/step - loss: 0.6676 - accuracy: 0.7421 - val_loss: 0.8718 - val_accuracy: 0.7238\n",
      "Epoch 22/160\n",
      "788/788 [==============================] - 29s 36ms/step - loss: 0.6717 - accuracy: 0.7394 - val_loss: 0.8575 - val_accuracy: 0.6969\n",
      "Epoch 23/160\n",
      "788/788 [==============================] - 29s 37ms/step - loss: 0.6621 - accuracy: 0.7421 - val_loss: 0.7423 - val_accuracy: 0.7225\n",
      "Epoch 24/160\n",
      "788/788 [==============================] - 30s 38ms/step - loss: 0.6472 - accuracy: 0.7471 - val_loss: 0.7535 - val_accuracy: 0.7131\n",
      "Epoch 25/160\n",
      "788/788 [==============================] - 30s 37ms/step - loss: 0.6402 - accuracy: 0.7526 - val_loss: 0.7326 - val_accuracy: 0.7391\n",
      "Epoch 26/160\n",
      "788/788 [==============================] - 30s 37ms/step - loss: 0.6442 - accuracy: 0.7525 - val_loss: 0.7409 - val_accuracy: 0.7162\n",
      "Epoch 27/160\n",
      "788/788 [==============================] - 30s 38ms/step - loss: 0.6280 - accuracy: 0.7589 - val_loss: 0.8276 - val_accuracy: 0.6879\n",
      "Epoch 28/160\n",
      "788/788 [==============================] - 30s 38ms/step - loss: 0.6356 - accuracy: 0.7580 - val_loss: 0.7040 - val_accuracy: 0.7274\n",
      "Epoch 29/160\n",
      "788/788 [==============================] - 30s 38ms/step - loss: 0.6286 - accuracy: 0.7589 - val_loss: 0.7926 - val_accuracy: 0.7072\n",
      "Epoch 30/160\n",
      "788/788 [==============================] - 29s 37ms/step - loss: 0.6171 - accuracy: 0.7653 - val_loss: 0.7712 - val_accuracy: 0.7351\n",
      "Epoch 31/160\n",
      "788/788 [==============================] - 29s 37ms/step - loss: 0.6174 - accuracy: 0.7651 - val_loss: 0.6774 - val_accuracy: 0.7427\n",
      "Epoch 32/160\n",
      "788/788 [==============================] - 29s 37ms/step - loss: 0.6065 - accuracy: 0.7679 - val_loss: 0.7381 - val_accuracy: 0.7211\n",
      "Epoch 33/160\n",
      "788/788 [==============================] - 29s 37ms/step - loss: 0.6095 - accuracy: 0.7669 - val_loss: 0.7043 - val_accuracy: 0.7369\n",
      "Epoch 34/160\n",
      "788/788 [==============================] - 30s 38ms/step - loss: 0.6065 - accuracy: 0.7727 - val_loss: 0.7483 - val_accuracy: 0.7216\n",
      "Epoch 35/160\n",
      "788/788 [==============================] - 29s 36ms/step - loss: 0.5950 - accuracy: 0.7724 - val_loss: 0.7626 - val_accuracy: 0.7238\n",
      "Epoch 36/160\n",
      "788/788 [==============================] - 28s 36ms/step - loss: 0.5924 - accuracy: 0.7743 - val_loss: 0.8828 - val_accuracy: 0.6897\n",
      "Epoch 37/160\n",
      "788/788 [==============================] - 29s 37ms/step - loss: 0.5859 - accuracy: 0.7770 - val_loss: 0.7223 - val_accuracy: 0.7405\n",
      "Epoch 38/160\n",
      "788/788 [==============================] - 29s 37ms/step - loss: 0.5881 - accuracy: 0.7718 - val_loss: 0.7764 - val_accuracy: 0.7265\n",
      "Epoch 39/160\n",
      "788/788 [==============================] - 30s 37ms/step - loss: 0.5783 - accuracy: 0.7774 - val_loss: 0.7536 - val_accuracy: 0.7207\n",
      "Epoch 40/160\n",
      "788/788 [==============================] - 29s 37ms/step - loss: 0.5819 - accuracy: 0.7793 - val_loss: 0.7401 - val_accuracy: 0.7382\n",
      "Epoch 41/160\n",
      "788/788 [==============================] - 29s 37ms/step - loss: 0.5769 - accuracy: 0.7811 - val_loss: 0.6962 - val_accuracy: 0.7418\n",
      "Epoch 42/160\n",
      "788/788 [==============================] - 29s 36ms/step - loss: 0.5629 - accuracy: 0.7825 - val_loss: 0.6795 - val_accuracy: 0.7418\n",
      "Epoch 43/160\n",
      "788/788 [==============================] - 28s 36ms/step - loss: 0.5649 - accuracy: 0.7857 - val_loss: 0.7588 - val_accuracy: 0.7122\n",
      "Epoch 44/160\n",
      "788/788 [==============================] - 28s 36ms/step - loss: 0.5578 - accuracy: 0.7864 - val_loss: 0.9002 - val_accuracy: 0.6655\n",
      "Epoch 45/160\n",
      "788/788 [==============================] - 28s 35ms/step - loss: 0.5525 - accuracy: 0.7900 - val_loss: 0.7349 - val_accuracy: 0.7324\n",
      "Epoch 46/160\n",
      "788/788 [==============================] - 28s 35ms/step - loss: 0.5575 - accuracy: 0.7871 - val_loss: 0.8586 - val_accuracy: 0.6857\n",
      "Epoch 47/160\n",
      "788/788 [==============================] - 28s 35ms/step - loss: 0.5496 - accuracy: 0.7939 - val_loss: 0.7584 - val_accuracy: 0.7288\n",
      "Epoch 48/160\n",
      "788/788 [==============================] - 28s 35ms/step - loss: 0.5548 - accuracy: 0.7903 - val_loss: 0.7833 - val_accuracy: 0.7328\n",
      "Epoch 49/160\n",
      "788/788 [==============================] - 29s 36ms/step - loss: 0.5495 - accuracy: 0.7925 - val_loss: 0.6984 - val_accuracy: 0.7539\n",
      "Epoch 50/160\n",
      "788/788 [==============================] - 28s 36ms/step - loss: 0.5522 - accuracy: 0.7923 - val_loss: 0.7402 - val_accuracy: 0.7458\n",
      "Epoch 51/160\n",
      "788/788 [==============================] - 29s 36ms/step - loss: 0.5342 - accuracy: 0.7953 - val_loss: 0.7245 - val_accuracy: 0.7405\n",
      "Epoch 52/160\n",
      "788/788 [==============================] - 29s 37ms/step - loss: 0.5419 - accuracy: 0.7921 - val_loss: 0.7395 - val_accuracy: 0.7396\n",
      "Epoch 53/160\n",
      "788/788 [==============================] - 29s 37ms/step - loss: 0.5368 - accuracy: 0.7936 - val_loss: 0.7107 - val_accuracy: 0.7441\n",
      "Epoch 54/160\n",
      "788/788 [==============================] - 29s 37ms/step - loss: 0.5325 - accuracy: 0.7967 - val_loss: 0.7812 - val_accuracy: 0.7225\n",
      "Epoch 55/160\n",
      "788/788 [==============================] - 30s 38ms/step - loss: 0.5330 - accuracy: 0.7975 - val_loss: 0.6869 - val_accuracy: 0.7369\n",
      "Epoch 56/160\n",
      "788/788 [==============================] - 31s 39ms/step - loss: 0.5307 - accuracy: 0.7992 - val_loss: 0.7222 - val_accuracy: 0.7301\n",
      "Epoch 57/160\n",
      "788/788 [==============================] - 30s 37ms/step - loss: 0.5203 - accuracy: 0.8013 - val_loss: 0.7441 - val_accuracy: 0.7194\n",
      "Epoch 58/160\n",
      "788/788 [==============================] - 30s 38ms/step - loss: 0.5164 - accuracy: 0.8050 - val_loss: 0.8646 - val_accuracy: 0.7158\n",
      "Epoch 59/160\n",
      "788/788 [==============================] - 29s 37ms/step - loss: 0.5246 - accuracy: 0.8038 - val_loss: 0.7270 - val_accuracy: 0.7400\n",
      "Epoch 60/160\n",
      "788/788 [==============================] - 29s 37ms/step - loss: 0.5181 - accuracy: 0.8051 - val_loss: 0.7628 - val_accuracy: 0.7265\n",
      "Epoch 61/160\n",
      "788/788 [==============================] - 29s 37ms/step - loss: 0.5109 - accuracy: 0.8047 - val_loss: 0.7266 - val_accuracy: 0.7301\n",
      "Epoch 62/160\n",
      "788/788 [==============================] - 28s 35ms/step - loss: 0.5072 - accuracy: 0.8060 - val_loss: 0.7859 - val_accuracy: 0.7211\n",
      "Epoch 63/160\n",
      "788/788 [==============================] - 28s 35ms/step - loss: 0.5171 - accuracy: 0.8037 - val_loss: 0.7925 - val_accuracy: 0.7135\n",
      "Epoch 64/160\n",
      "788/788 [==============================] - 29s 37ms/step - loss: 0.5093 - accuracy: 0.8089 - val_loss: 0.7278 - val_accuracy: 0.7517\n",
      "Epoch 65/160\n",
      "788/788 [==============================] - 30s 37ms/step - loss: 0.5054 - accuracy: 0.8089 - val_loss: 0.6938 - val_accuracy: 0.7584\n",
      "Epoch 66/160\n",
      "788/788 [==============================] - 29s 37ms/step - loss: 0.5035 - accuracy: 0.8081 - val_loss: 0.7839 - val_accuracy: 0.7234\n",
      "Epoch 67/160\n",
      "788/788 [==============================] - 28s 35ms/step - loss: 0.4901 - accuracy: 0.8129 - val_loss: 0.7713 - val_accuracy: 0.7167\n",
      "Epoch 68/160\n",
      "788/788 [==============================] - 28s 35ms/step - loss: 0.4969 - accuracy: 0.8123 - val_loss: 0.7710 - val_accuracy: 0.7207\n",
      "Epoch 69/160\n",
      "788/788 [==============================] - 28s 36ms/step - loss: 0.4873 - accuracy: 0.8162 - val_loss: 0.7593 - val_accuracy: 0.7364\n",
      "Epoch 70/160\n",
      "788/788 [==============================] - 28s 35ms/step - loss: 0.4850 - accuracy: 0.8135 - val_loss: 0.7693 - val_accuracy: 0.7279\n",
      "Epoch 71/160\n",
      "788/788 [==============================] - 29s 37ms/step - loss: 0.4819 - accuracy: 0.8172 - val_loss: 0.7244 - val_accuracy: 0.7414\n",
      "Epoch 72/160\n",
      "788/788 [==============================] - 29s 37ms/step - loss: 0.4825 - accuracy: 0.8185 - val_loss: 0.6761 - val_accuracy: 0.7562\n",
      "Epoch 73/160\n",
      "788/788 [==============================] - 29s 37ms/step - loss: 0.4820 - accuracy: 0.8196 - val_loss: 0.7041 - val_accuracy: 0.7432\n",
      "Epoch 74/160\n",
      "788/788 [==============================] - 29s 37ms/step - loss: 0.4745 - accuracy: 0.8208 - val_loss: 0.7333 - val_accuracy: 0.7333\n",
      "Epoch 75/160\n",
      "788/788 [==============================] - 30s 38ms/step - loss: 0.4738 - accuracy: 0.8200 - val_loss: 0.8478 - val_accuracy: 0.7144\n",
      "Epoch 76/160\n",
      "788/788 [==============================] - 29s 37ms/step - loss: 0.4780 - accuracy: 0.8150 - val_loss: 0.8043 - val_accuracy: 0.7315\n",
      "Epoch 77/160\n",
      "788/788 [==============================] - 29s 37ms/step - loss: 0.4737 - accuracy: 0.8163 - val_loss: 0.7435 - val_accuracy: 0.7279\n",
      "Epoch 78/160\n",
      "788/788 [==============================] - 29s 37ms/step - loss: 0.4674 - accuracy: 0.8215 - val_loss: 0.9098 - val_accuracy: 0.6929\n",
      "Epoch 79/160\n",
      "788/788 [==============================] - 29s 37ms/step - loss: 0.4647 - accuracy: 0.8256 - val_loss: 0.8269 - val_accuracy: 0.7104\n",
      "Epoch 80/160\n",
      "788/788 [==============================] - 30s 38ms/step - loss: 0.4682 - accuracy: 0.8242 - val_loss: 0.7975 - val_accuracy: 0.7171\n",
      "Epoch 81/160\n",
      "788/788 [==============================] - 30s 38ms/step - loss: 0.4610 - accuracy: 0.8193 - val_loss: 0.8830 - val_accuracy: 0.7216\n",
      "Epoch 82/160\n",
      "788/788 [==============================] - 30s 38ms/step - loss: 0.4542 - accuracy: 0.8284 - val_loss: 0.8386 - val_accuracy: 0.6924\n",
      "Epoch 83/160\n",
      "788/788 [==============================] - 30s 38ms/step - loss: 0.4555 - accuracy: 0.8292 - val_loss: 0.8909 - val_accuracy: 0.7018\n",
      "Epoch 84/160\n",
      "788/788 [==============================] - 29s 37ms/step - loss: 0.4621 - accuracy: 0.8246 - val_loss: 0.8166 - val_accuracy: 0.7162\n",
      "Epoch 85/160\n",
      "788/788 [==============================] - 29s 37ms/step - loss: 0.4568 - accuracy: 0.8260 - val_loss: 0.7726 - val_accuracy: 0.7360\n",
      "Epoch 86/160\n",
      "788/788 [==============================] - 29s 37ms/step - loss: 0.4560 - accuracy: 0.8286 - val_loss: 0.7768 - val_accuracy: 0.7247\n",
      "Epoch 87/160\n",
      "788/788 [==============================] - 29s 36ms/step - loss: 0.4485 - accuracy: 0.8301 - val_loss: 0.7775 - val_accuracy: 0.7171\n",
      "Epoch 88/160\n",
      "788/788 [==============================] - 30s 37ms/step - loss: 0.4509 - accuracy: 0.8284 - val_loss: 0.7142 - val_accuracy: 0.7463\n",
      "Epoch 89/160\n",
      "788/788 [==============================] - 30s 38ms/step - loss: 0.4487 - accuracy: 0.8299 - val_loss: 0.7553 - val_accuracy: 0.7584\n",
      "Epoch 90/160\n",
      "788/788 [==============================] - 29s 37ms/step - loss: 0.4413 - accuracy: 0.8335 - val_loss: 0.8385 - val_accuracy: 0.7113\n",
      "Epoch 91/160\n",
      "788/788 [==============================] - 29s 37ms/step - loss: 0.4406 - accuracy: 0.8321 - val_loss: 0.7873 - val_accuracy: 0.7373\n",
      "Epoch 92/160\n",
      "788/788 [==============================] - 29s 37ms/step - loss: 0.4413 - accuracy: 0.8354 - val_loss: 0.8031 - val_accuracy: 0.7167\n",
      "Epoch 93/160\n",
      "788/788 [==============================] - 29s 37ms/step - loss: 0.4380 - accuracy: 0.8315 - val_loss: 0.8478 - val_accuracy: 0.7090\n",
      "Epoch 94/160\n",
      "788/788 [==============================] - 29s 36ms/step - loss: 0.4403 - accuracy: 0.8333 - val_loss: 0.7722 - val_accuracy: 0.7346\n",
      "Epoch 95/160\n",
      "788/788 [==============================] - 28s 36ms/step - loss: 0.4303 - accuracy: 0.8371 - val_loss: 0.7518 - val_accuracy: 0.7369\n",
      "Epoch 96/160\n",
      "788/788 [==============================] - 29s 36ms/step - loss: 0.4351 - accuracy: 0.8348 - val_loss: 0.7749 - val_accuracy: 0.7333\n",
      "Epoch 97/160\n",
      "788/788 [==============================] - 28s 36ms/step - loss: 0.4316 - accuracy: 0.8352 - val_loss: 0.7851 - val_accuracy: 0.7391\n",
      "Epoch 98/160\n",
      "788/788 [==============================] - 30s 38ms/step - loss: 0.4249 - accuracy: 0.8368 - val_loss: 0.8835 - val_accuracy: 0.7198\n",
      "Epoch 99/160\n",
      "788/788 [==============================] - 30s 37ms/step - loss: 0.4295 - accuracy: 0.8389 - val_loss: 0.8546 - val_accuracy: 0.7117\n",
      "Epoch 100/160\n",
      "788/788 [==============================] - 29s 37ms/step - loss: 0.4251 - accuracy: 0.8383 - val_loss: 0.7549 - val_accuracy: 0.7279\n",
      "Epoch 101/160\n",
      "788/788 [==============================] - 29s 36ms/step - loss: 0.4247 - accuracy: 0.8387 - val_loss: 0.7808 - val_accuracy: 0.7405\n",
      "Epoch 102/160\n",
      "788/788 [==============================] - 29s 37ms/step - loss: 0.4187 - accuracy: 0.8395 - val_loss: 0.8202 - val_accuracy: 0.7198\n",
      "Epoch 103/160\n",
      "788/788 [==============================] - 30s 37ms/step - loss: 0.4138 - accuracy: 0.8437 - val_loss: 0.7847 - val_accuracy: 0.7476\n",
      "Epoch 104/160\n",
      "788/788 [==============================] - 29s 37ms/step - loss: 0.4147 - accuracy: 0.8459 - val_loss: 0.8533 - val_accuracy: 0.7180\n",
      "Epoch 105/160\n",
      "788/788 [==============================] - 30s 38ms/step - loss: 0.4144 - accuracy: 0.8416 - val_loss: 0.9396 - val_accuracy: 0.6956\n",
      "Epoch 106/160\n",
      "788/788 [==============================] - 30s 37ms/step - loss: 0.4105 - accuracy: 0.8417 - val_loss: 0.8329 - val_accuracy: 0.7387\n",
      "Epoch 107/160\n",
      "788/788 [==============================] - 29s 37ms/step - loss: 0.4173 - accuracy: 0.8459 - val_loss: 0.7548 - val_accuracy: 0.7261\n",
      "Epoch 108/160\n",
      "788/788 [==============================] - 29s 36ms/step - loss: 0.4167 - accuracy: 0.8377 - val_loss: 0.7535 - val_accuracy: 0.7391\n",
      "Epoch 109/160\n",
      "788/788 [==============================] - 29s 37ms/step - loss: 0.4106 - accuracy: 0.8478 - val_loss: 0.8065 - val_accuracy: 0.7405\n",
      "Epoch 110/160\n",
      "788/788 [==============================] - 28s 36ms/step - loss: 0.4064 - accuracy: 0.8452 - val_loss: 0.8870 - val_accuracy: 0.7131\n",
      "Epoch 111/160\n",
      "788/788 [==============================] - 29s 37ms/step - loss: 0.4062 - accuracy: 0.8441 - val_loss: 0.8173 - val_accuracy: 0.7391\n",
      "Epoch 112/160\n",
      "788/788 [==============================] - 30s 38ms/step - loss: 0.4116 - accuracy: 0.8454 - val_loss: 0.8718 - val_accuracy: 0.7351\n",
      "Epoch 113/160\n",
      "788/788 [==============================] - 29s 37ms/step - loss: 0.3992 - accuracy: 0.8482 - val_loss: 0.8856 - val_accuracy: 0.7229\n",
      "Epoch 114/160\n",
      "788/788 [==============================] - 28s 36ms/step - loss: 0.4006 - accuracy: 0.8491 - val_loss: 0.8451 - val_accuracy: 0.7270\n",
      "Epoch 115/160\n",
      "788/788 [==============================] - 28s 36ms/step - loss: 0.3910 - accuracy: 0.8539 - val_loss: 0.8270 - val_accuracy: 0.7265\n",
      "Epoch 116/160\n",
      "788/788 [==============================] - 28s 35ms/step - loss: 0.3883 - accuracy: 0.8538 - val_loss: 0.7759 - val_accuracy: 0.7526\n",
      "Epoch 117/160\n",
      "788/788 [==============================] - 28s 36ms/step - loss: 0.3974 - accuracy: 0.8494 - val_loss: 0.7729 - val_accuracy: 0.7436\n",
      "Epoch 118/160\n",
      "788/788 [==============================] - 28s 36ms/step - loss: 0.3886 - accuracy: 0.8531 - val_loss: 0.8281 - val_accuracy: 0.7274\n",
      "Epoch 119/160\n",
      "788/788 [==============================] - 29s 36ms/step - loss: 0.3931 - accuracy: 0.8528 - val_loss: 0.7822 - val_accuracy: 0.7467\n",
      "Epoch 120/160\n",
      "788/788 [==============================] - 28s 36ms/step - loss: 0.3817 - accuracy: 0.8541 - val_loss: 0.9416 - val_accuracy: 0.7211\n",
      "Epoch 121/160\n",
      "788/788 [==============================] - 29s 37ms/step - loss: 0.3857 - accuracy: 0.8521 - val_loss: 0.8886 - val_accuracy: 0.7162\n",
      "Epoch 122/160\n",
      "788/788 [==============================] - 29s 36ms/step - loss: 0.3902 - accuracy: 0.8478 - val_loss: 0.8105 - val_accuracy: 0.7306\n",
      "Epoch 123/160\n",
      "788/788 [==============================] - 28s 36ms/step - loss: 0.3778 - accuracy: 0.8576 - val_loss: 0.8099 - val_accuracy: 0.7512\n",
      "Epoch 124/160\n",
      "788/788 [==============================] - 29s 36ms/step - loss: 0.3832 - accuracy: 0.8558 - val_loss: 0.8926 - val_accuracy: 0.7391\n",
      "Epoch 125/160\n",
      "788/788 [==============================] - 29s 37ms/step - loss: 0.3820 - accuracy: 0.8573 - val_loss: 0.8500 - val_accuracy: 0.7319\n",
      "Epoch 126/160\n",
      "788/788 [==============================] - 29s 36ms/step - loss: 0.3817 - accuracy: 0.8566 - val_loss: 0.8392 - val_accuracy: 0.7432\n",
      "Epoch 127/160\n",
      "788/788 [==============================] - 29s 36ms/step - loss: 0.3776 - accuracy: 0.8556 - val_loss: 0.9004 - val_accuracy: 0.7301\n",
      "Epoch 128/160\n",
      "788/788 [==============================] - 30s 38ms/step - loss: 0.3788 - accuracy: 0.8605 - val_loss: 0.8131 - val_accuracy: 0.7427\n",
      "Epoch 129/160\n",
      "788/788 [==============================] - 30s 38ms/step - loss: 0.3672 - accuracy: 0.8625 - val_loss: 0.8829 - val_accuracy: 0.7122\n",
      "Epoch 130/160\n",
      "788/788 [==============================] - 30s 38ms/step - loss: 0.3778 - accuracy: 0.8565 - val_loss: 0.8808 - val_accuracy: 0.7252\n",
      "Epoch 131/160\n",
      "788/788 [==============================] - 29s 37ms/step - loss: 0.3692 - accuracy: 0.8624 - val_loss: 0.8652 - val_accuracy: 0.7378\n",
      "Epoch 132/160\n",
      "788/788 [==============================] - 29s 36ms/step - loss: 0.3668 - accuracy: 0.8636 - val_loss: 0.8964 - val_accuracy: 0.7378\n",
      "Epoch 133/160\n",
      "788/788 [==============================] - 28s 35ms/step - loss: 0.3717 - accuracy: 0.8578 - val_loss: 0.8636 - val_accuracy: 0.7279\n",
      "Epoch 134/160\n",
      "788/788 [==============================] - 28s 35ms/step - loss: 0.3739 - accuracy: 0.8579 - val_loss: 0.8854 - val_accuracy: 0.7229\n",
      "Epoch 135/160\n",
      "788/788 [==============================] - 28s 35ms/step - loss: 0.3746 - accuracy: 0.8609 - val_loss: 0.9510 - val_accuracy: 0.6996\n",
      "Epoch 136/160\n",
      "788/788 [==============================] - 28s 35ms/step - loss: 0.3579 - accuracy: 0.8654 - val_loss: 0.8342 - val_accuracy: 0.7211\n",
      "Epoch 137/160\n",
      "788/788 [==============================] - 27s 35ms/step - loss: 0.3635 - accuracy: 0.8626 - val_loss: 0.8012 - val_accuracy: 0.7418\n",
      "Epoch 138/160\n",
      "788/788 [==============================] - 28s 35ms/step - loss: 0.3592 - accuracy: 0.8633 - val_loss: 0.8195 - val_accuracy: 0.7454\n",
      "Epoch 139/160\n",
      "788/788 [==============================] - 28s 35ms/step - loss: 0.3622 - accuracy: 0.8625 - val_loss: 0.8756 - val_accuracy: 0.7441\n",
      "Epoch 140/160\n",
      "788/788 [==============================] - 28s 35ms/step - loss: 0.3557 - accuracy: 0.8675 - val_loss: 0.8915 - val_accuracy: 0.7283\n",
      "Epoch 141/160\n",
      "788/788 [==============================] - 28s 35ms/step - loss: 0.3609 - accuracy: 0.8611 - val_loss: 0.9174 - val_accuracy: 0.7324\n",
      "Epoch 142/160\n",
      "788/788 [==============================] - 28s 35ms/step - loss: 0.3579 - accuracy: 0.8634 - val_loss: 0.9372 - val_accuracy: 0.7247\n",
      "Epoch 143/160\n",
      "788/788 [==============================] - 28s 35ms/step - loss: 0.3497 - accuracy: 0.8688 - val_loss: 0.8592 - val_accuracy: 0.7328\n",
      "Epoch 144/160\n",
      "788/788 [==============================] - 27s 35ms/step - loss: 0.3575 - accuracy: 0.8641 - val_loss: 0.8977 - val_accuracy: 0.7252\n",
      "Epoch 145/160\n",
      "788/788 [==============================] - 28s 35ms/step - loss: 0.3595 - accuracy: 0.8649 - val_loss: 0.8903 - val_accuracy: 0.7176\n",
      "Epoch 146/160\n",
      "788/788 [==============================] - 27s 34ms/step - loss: 0.3530 - accuracy: 0.8697 - val_loss: 0.8713 - val_accuracy: 0.7391\n",
      "Epoch 147/160\n",
      "788/788 [==============================] - 28s 35ms/step - loss: 0.3451 - accuracy: 0.8671 - val_loss: 0.8984 - val_accuracy: 0.7337\n",
      "Epoch 148/160\n",
      "788/788 [==============================] - 30s 38ms/step - loss: 0.3494 - accuracy: 0.8692 - val_loss: 0.8965 - val_accuracy: 0.7203\n",
      "Epoch 149/160\n",
      "788/788 [==============================] - 31s 39ms/step - loss: 0.3456 - accuracy: 0.8690 - val_loss: 0.9636 - val_accuracy: 0.7203\n",
      "Epoch 150/160\n",
      "788/788 [==============================] - 30s 38ms/step - loss: 0.3420 - accuracy: 0.8693 - val_loss: 0.8777 - val_accuracy: 0.7427\n",
      "Epoch 151/160\n",
      "788/788 [==============================] - 30s 38ms/step - loss: 0.3479 - accuracy: 0.8669 - val_loss: 0.9148 - val_accuracy: 0.7441\n",
      "Epoch 152/160\n",
      "788/788 [==============================] - 28s 36ms/step - loss: 0.3437 - accuracy: 0.8705 - val_loss: 0.8892 - val_accuracy: 0.7122\n",
      "Epoch 153/160\n",
      "788/788 [==============================] - 29s 36ms/step - loss: 0.3429 - accuracy: 0.8682 - val_loss: 1.0073 - val_accuracy: 0.7045\n",
      "Epoch 154/160\n",
      "788/788 [==============================] - 29s 36ms/step - loss: 0.3417 - accuracy: 0.8713 - val_loss: 0.8232 - val_accuracy: 0.7328\n",
      "Epoch 155/160\n",
      "788/788 [==============================] - 29s 37ms/step - loss: 0.3437 - accuracy: 0.8706 - val_loss: 0.9808 - val_accuracy: 0.6911\n",
      "Epoch 156/160\n",
      "788/788 [==============================] - 28s 35ms/step - loss: 0.3291 - accuracy: 0.8730 - val_loss: 0.8677 - val_accuracy: 0.7274\n",
      "Epoch 157/160\n",
      "788/788 [==============================] - 29s 36ms/step - loss: 0.3390 - accuracy: 0.8712 - val_loss: 0.8498 - val_accuracy: 0.7292\n",
      "Epoch 158/160\n",
      "788/788 [==============================] - 30s 38ms/step - loss: 0.3320 - accuracy: 0.8720 - val_loss: 0.9678 - val_accuracy: 0.7158\n",
      "Epoch 159/160\n",
      "788/788 [==============================] - 29s 37ms/step - loss: 0.3480 - accuracy: 0.8689 - val_loss: 0.8794 - val_accuracy: 0.7149\n",
      "Epoch 160/160\n",
      "788/788 [==============================] - 29s 37ms/step - loss: 0.3332 - accuracy: 0.8724 - val_loss: 0.9386 - val_accuracy: 0.7274\n"
     ]
    }
   ],
   "source": [
    "batch_size = 16\n",
    "epochs = 160\n",
    "\n",
    "optims = [\n",
    "        keras.optimizers.Nadam(learning_rate=0.001, beta_1=0.9, beta_2=0.999, epsilon=1e-07),\n",
    "        keras.optimizers.Adam(),\n",
    "]\n",
    "\n",
    "model.compile(\n",
    "        loss='categorical_crossentropy',\n",
    "        optimizer=optims[1],\n",
    "        metrics=['accuracy']\n",
    ")\n",
    "\n",
    "history = model.fit(\n",
    "    train_datagen.flow(X_train, y_train, batch_size=batch_size),\n",
    "    validation_data=(X_val, y_val),\n",
    "    steps_per_epoch=len(X_train) / batch_size,\n",
    "    epochs=epochs,\n",
    "    use_multiprocessing=True,\n",
    "    callbacks=[model_checkpoint_callback]\n",
    ")"
   ]
  },
  {
   "cell_type": "code",
   "execution_count": 46,
   "metadata": {
    "colab": {
     "base_uri": "https://localhost:8080/"
    },
    "id": "aQId0Js19KVz",
    "outputId": "99bb4f33-ed45-487b-b329-d82c2ecf3cca"
   },
   "outputs": [
    {
     "name": "stdout",
     "output_type": "stream",
     "text": [
      "Mounted at /content/drive\n"
     ]
    }
   ],
   "source": [
    "from google.colab import drive\n",
    "drive.mount('/content/drive')"
   ]
  },
  {
   "cell_type": "code",
   "execution_count": 47,
   "metadata": {
    "colab": {
     "base_uri": "https://localhost:8080/",
     "height": 456
    },
    "id": "rFXujTJCDfft",
    "outputId": "cbf9cf57-58ef-4c3d-c8b1-d4444ba13bcd"
   },
   "outputs": [
    {
     "name": "stderr",
     "output_type": "stream",
     "text": [
      "/usr/local/lib/python3.7/dist-packages/seaborn/_decorators.py:43: FutureWarning: Pass the following variables as keyword args: x, y. From version 0.12, the only valid positional argument will be `data`, and passing other arguments without an explicit keyword will result in an error or misinterpretation.\n",
      "  FutureWarning\n",
      "/usr/local/lib/python3.7/dist-packages/seaborn/_decorators.py:43: FutureWarning: Pass the following variables as keyword args: x, y. From version 0.12, the only valid positional argument will be `data`, and passing other arguments without an explicit keyword will result in an error or misinterpretation.\n",
      "  FutureWarning\n",
      "/usr/local/lib/python3.7/dist-packages/seaborn/_decorators.py:43: FutureWarning: Pass the following variables as keyword args: x, y. From version 0.12, the only valid positional argument will be `data`, and passing other arguments without an explicit keyword will result in an error or misinterpretation.\n",
      "  FutureWarning\n",
      "/usr/local/lib/python3.7/dist-packages/seaborn/_decorators.py:43: FutureWarning: Pass the following variables as keyword args: x, y. From version 0.12, the only valid positional argument will be `data`, and passing other arguments without an explicit keyword will result in an error or misinterpretation.\n",
      "  FutureWarning\n"
     ]
    },
    {
     "data": {
      "image/png": "[encoded data removed]",
      "text/plain": [
       "<Figure size 864x288 with 2 Axes>"
      ]
     },
     "metadata": {},
     "output_type": "display_data"
    }
   ],
   "source": [
    "sns.set()\n",
    "fig = pyplot.figure(0, (12, 4))\n",
    "\n",
    "ax = pyplot.subplot(1, 2, 1)\n",
    "sns.lineplot(history.epoch, history.history['accuracy'], label='train')\n",
    "sns.lineplot(history.epoch, history.history['val_accuracy'], label='valid')\n",
    "pyplot.title('Accuracy')\n",
    "pyplot.tight_layout()\n",
    "\n",
    "ax = pyplot.subplot(1, 2, 2)\n",
    "sns.lineplot(history.epoch, history.history['loss'], label='train')\n",
    "sns.lineplot(history.epoch, history.history['val_loss'], label='valid')\n",
    "pyplot.title('Loss')\n",
    "pyplot.tight_layout()\n",
    "\n",
    "pyplot.savefig('epoch_history_mobilenet.png')\n",
    "pyplot.show()"
   ]
  },
  {
   "cell_type": "code",
   "execution_count": 49,
   "metadata": {
    "id": "YW8GKAwd4sMs"
   },
   "outputs": [],
   "source": [
    "model.load_weights('/content/mobilenetV2-65-0.76.hdf5')  "
   ]
  },
  {
   "cell_type": "code",
   "execution_count": 50,
   "metadata": {
    "colab": {
     "base_uri": "https://localhost:8080/",
     "height": 667
    },
    "id": "TKqRdNEgJltM",
    "outputId": "f5d1ebf2-d26a-4128-8431-b7d3422fcbe4"
   },
   "outputs": [
    {
     "name": "stdout",
     "output_type": "stream",
     "text": [
      "test accuracy: 76.7879 %\n",
      "\n",
      "\n",
      "              precision    recall  f1-score   support\n",
      "\n",
      "           0       0.68      0.59      0.64       253\n",
      "           1       0.90      0.87      0.88       684\n",
      "           2       0.70      0.77      0.73       430\n",
      "           3       0.65      0.67      0.66       283\n",
      "\n",
      "    accuracy                           0.77      1650\n",
      "   macro avg       0.73      0.73      0.73      1650\n",
      "weighted avg       0.77      0.77      0.77      1650\n",
      "\n"
     ]
    },
    {
     "data": {
      "image/png": "[encoded data removed]",
      "text/plain": [
       "<Figure size 504x504 with 2 Axes>"
      ]
     },
     "metadata": {},
     "output_type": "display_data"
    }
   ],
   "source": [
    "yhat_test = np.argmax(model.predict(X_test), axis=1)\n",
    "ytest_ = np.argmax(y_test, axis=1)\n",
    "\n",
    "scikitplot.metrics.plot_confusion_matrix(ytest_, yhat_test, figsize=(7,7))\n",
    "pyplot.savefig(\"confusion_matrix_mobilenet.png\")\n",
    "\n",
    "test_accu = np.sum(ytest_ == yhat_test) / len(ytest_) * 100\n",
    "print(f\"test accuracy: {round(test_accu, 4)} %\\n\\n\")\n",
    "\n",
    "print(classification_report(ytest_, yhat_test))"
   ]
  },
  {
   "cell_type": "code",
   "execution_count": 51,
   "metadata": {
    "colab": {
     "base_uri": "https://localhost:8080/"
    },
    "id": "39a4VB23KK0O",
    "outputId": "46d16886-ca3c-4619-a225-6ac8e3a56a47"
   },
   "outputs": [
    {
     "name": "stdout",
     "output_type": "stream",
     "text": [
      "Test_loss 0.6781592\n"
     ]
    }
   ],
   "source": [
    "print('Test_loss',\n",
    "np.mean(keras.metrics.categorical_crossentropy(\n",
    "    y_test, model.predict(X_test)\n",
    ")))"
   ]
  },
  {
   "cell_type": "code",
   "execution_count": 52,
   "metadata": {
    "id": "opKspz1-LAqM"
   },
   "outputs": [],
   "source": [
    "model.save(\"mobileNetV2_5_15.h5\")"
   ]
  },
  {
   "cell_type": "code",
   "execution_count": 53,
   "metadata": {
    "id": "0hNh1kFgR2QY"
   },
   "outputs": [],
   "source": [
    "# from keras.preprocessing import image\n",
    "\n",
    "# img = image.load_img(\"/content/dataset/Angry/Training_10017485.jpg\",target_size = (48,48),color_mode = \"grayscale\")\n",
    "# img = np.array(img)\n",
    "# plt.imshow(img)\n",
    "# print(img.shape) "
   ]
  },
  {
   "cell_type": "code",
   "execution_count": 54,
   "metadata": {
    "id": "ii09UAmdJhJV"
   },
   "outputs": [],
   "source": [
    "label_dict = {0:'Angry',1:'Neutral',2:'Fear',3:'Happy'}\n"
   ]
  },
  {
   "cell_type": "code",
   "execution_count": 55,
   "metadata": {
    "colab": {
     "base_uri": "https://localhost:8080/",
     "height": 288
    },
    "id": "mMF8AUMxRObz",
    "outputId": "49e794f2-e225-46ef-d860-62fcb4f4b309"
   },
   "outputs": [
    {
     "name": "stdout",
     "output_type": "stream",
     "text": [
      "(48, 48)\n"
     ]
    },
    {
     "data": {
      "image/png": "[encoded data removed]",
      "text/plain": [
       "<Figure size 432x288 with 1 Axes>"
      ]
     },
     "metadata": {},
     "output_type": "display_data"
    }
   ],
   "source": [
    "from keras.preprocessing import image\n",
    "img = image.load_img('/content/dataset/Angry/Training_13485041.jpg',target_size = (48,48),color_mode = \"grayscale\")\n",
    "img = np.array(img)\n",
    "plt.imshow(img)\n",
    "print(img.shape) #prints (48,48) that is the shape of our image\n"
   ]
  },
  {
   "cell_type": "code",
   "execution_count": 56,
   "metadata": {
    "colab": {
     "base_uri": "https://localhost:8080/"
    },
    "id": "qxtspCVEJ4Kb",
    "outputId": "d5952eae-a180-4fb0-a818-d39385b940f8"
   },
   "outputs": [
    {
     "name": "stdout",
     "output_type": "stream",
     "text": [
      "[0.0062926547, 0.010955093, 0.015997611, 0.9667546]\n"
     ]
    }
   ],
   "source": [
    "# img = np.expand_dims(img,axis = 0) #makes image shape (1,48,48)\n",
    "# img = img.reshape(1,48,48,1)\n",
    "# print(img.shape) \n",
    "from PIL import Image\n",
    "import numpy as np\n",
    "from skimage import transform\n",
    "def load(filename):\n",
    "   np_image = Image.open(filename)\n",
    "   np_image = np.array(np_image).astype('float32')/255\n",
    "   np_image = transform.resize(np_image, (48, 48, 3))\n",
    "   np_image = np.expand_dims(np_image, axis=0)\n",
    "   return np_image\n",
    "\n",
    "image = load('/content/dataset/Angry/Training_13485041.jpg')\n",
    "\n",
    "result=model.predict(image)\n",
    "result = list(result[0])\n",
    "print(result)\n",
    "\n"
   ]
  },
  {
   "cell_type": "code",
   "execution_count": 57,
   "metadata": {
    "colab": {
     "base_uri": "https://localhost:8080/"
    },
    "id": "wHRQFwNYNHVU",
    "outputId": "7e3c5a07-b2f2-4db4-e749-0037f375078d"
   },
   "outputs": [
    {
     "name": "stdout",
     "output_type": "stream",
     "text": [
      "Happy\n"
     ]
    }
   ],
   "source": [
    "img_index = result.index(max(result))\n",
    "print(label_dict[img_index])\n",
    "plt.show()"
   ]
  }
 ],
 "metadata": {
  "accelerator": "GPU",
  "colab": {
   "collapsed_sections": [],
   "name": "EmotionDetection_mobilenet_adam (1).ipynb",
   "provenance": []
  },
  "kernelspec": {
   "display_name": "Python 3 (ipykernel)",
   "language": "python",
   "name": "python3"
  },
  "language_info": {
   "codemirror_mode": {
    "name": "ipython",
    "version": 3
   },
   "file_extension": ".py",
   "mimetype": "text/x-python",
   "name": "python",
   "nbconvert_exporter": "python",
   "pygments_lexer": "ipython3",
   "version": "3.7.11"
  }
 },
 "nbformat": 4,
 "nbformat_minor": 1
}
