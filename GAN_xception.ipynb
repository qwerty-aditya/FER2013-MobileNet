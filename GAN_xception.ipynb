{
  "metadata": {
    "kernelspec": {
      "language": "python",
      "display_name": "Python 3",
      "name": "python3"
    },
    "language_info": {
      "name": "python",
      "version": "3.7.12",
      "mimetype": "text/x-python",
      "codemirror_mode": {
        "name": "ipython",
        "version": 3
      },
      "pygments_lexer": "ipython3",
      "nbconvert_exporter": "python",
      "file_extension": ".py"
    },
    "colab": {
      "name": "GAN_xception.ipynb",
      "provenance": [],
      "collapsed_sections": []
    },
    "accelerator": "GPU"
  },
  "nbformat_minor": 0,
  "nbformat": 4,
  "cells": [
    {
      "cell_type": "code",
      "source": [
        "import pathlib\n",
        "import numpy as np\n",
        "!pip install scikit-plot\n",
        "import seaborn as sns\n",
        "from matplotlib import pyplot\n",
        "import scikitplot\n",
        "from sklearn.metrics import classification_report\n",
        "import cv2\n",
        "import tensorflow as tf\n",
        "from tensorflow import keras\n",
        "from keras.callbacks import EarlyStopping\n",
        "import IPython.display as display\n",
        "from PIL import Image\n",
        "import numpy as np\n",
        "import matplotlib.pyplot as plt\n",
        "import os"
      ],
      "metadata": {
        "id": "IwQjZN-eVJl4",
        "outputId": "5f492716-830c-4a18-923e-c451bdc55e51",
        "execution": {
          "iopub.status.busy": "2022-04-10T10:54:45.299163Z",
          "iopub.execute_input": "2022-04-10T10:54:45.299436Z",
          "iopub.status.idle": "2022-04-10T10:54:52.750868Z",
          "shell.execute_reply.started": "2022-04-10T10:54:45.299391Z",
          "shell.execute_reply": "2022-04-10T10:54:52.750015Z"
        },
        "trusted": true,
        "colab": {
          "base_uri": "https://localhost:8080/"
        }
      },
      "execution_count": null,
      "outputs": [
        {
          "output_type": "stream",
          "name": "stdout",
          "text": [
            "Requirement already satisfied: scikit-plot in /usr/local/lib/python3.7/dist-packages (0.3.7)\n",
            "Requirement already satisfied: matplotlib>=1.4.0 in /usr/local/lib/python3.7/dist-packages (from scikit-plot) (3.2.2)\n",
            "Requirement already satisfied: scipy>=0.9 in /usr/local/lib/python3.7/dist-packages (from scikit-plot) (1.4.1)\n",
            "Requirement already satisfied: scikit-learn>=0.18 in /usr/local/lib/python3.7/dist-packages (from scikit-plot) (1.0.2)\n",
            "Requirement already satisfied: joblib>=0.10 in /usr/local/lib/python3.7/dist-packages (from scikit-plot) (1.1.0)\n",
            "Requirement already satisfied: kiwisolver>=1.0.1 in /usr/local/lib/python3.7/dist-packages (from matplotlib>=1.4.0->scikit-plot) (1.4.0)\n",
            "Requirement already satisfied: numpy>=1.11 in /usr/local/lib/python3.7/dist-packages (from matplotlib>=1.4.0->scikit-plot) (1.21.5)\n",
            "Requirement already satisfied: pyparsing!=2.0.4,!=2.1.2,!=2.1.6,>=2.0.1 in /usr/local/lib/python3.7/dist-packages (from matplotlib>=1.4.0->scikit-plot) (3.0.7)\n",
            "Requirement already satisfied: python-dateutil>=2.1 in /usr/local/lib/python3.7/dist-packages (from matplotlib>=1.4.0->scikit-plot) (2.8.2)\n",
            "Requirement already satisfied: cycler>=0.10 in /usr/local/lib/python3.7/dist-packages (from matplotlib>=1.4.0->scikit-plot) (0.11.0)\n",
            "Requirement already satisfied: typing-extensions in /usr/local/lib/python3.7/dist-packages (from kiwisolver>=1.0.1->matplotlib>=1.4.0->scikit-plot) (3.10.0.2)\n",
            "Requirement already satisfied: six>=1.5 in /usr/local/lib/python3.7/dist-packages (from python-dateutil>=2.1->matplotlib>=1.4.0->scikit-plot) (1.15.0)\n",
            "Requirement already satisfied: threadpoolctl>=2.0.0 in /usr/local/lib/python3.7/dist-packages (from scikit-learn>=0.18->scikit-plot) (3.1.0)\n"
          ]
        }
      ]
    },
    {
      "cell_type": "code",
      "source": [
        "import os\n",
        "import time\n",
        "import tensorflow_hub as hub\n",
        "os.environ[\"TFHUB_DOWNLOAD_PROGRESS\"] = \"True\""
      ],
      "metadata": {
        "id": "lhLn3OmpVU7q",
        "execution": {
          "iopub.status.busy": "2022-04-10T10:54:52.754307Z",
          "iopub.execute_input": "2022-04-10T10:54:52.754533Z",
          "iopub.status.idle": "2022-04-10T10:54:52.761100Z",
          "shell.execute_reply.started": "2022-04-10T10:54:52.754506Z",
          "shell.execute_reply": "2022-04-10T10:54:52.760339Z"
        },
        "trusted": true
      },
      "execution_count": null,
      "outputs": []
    },
    {
      "cell_type": "code",
      "source": [
        "from sklearn.model_selection import train_test_split"
      ],
      "metadata": {
        "id": "y54Q93yLVXQT",
        "execution": {
          "iopub.status.busy": "2022-04-10T10:54:52.764364Z",
          "iopub.execute_input": "2022-04-10T10:54:52.764605Z",
          "iopub.status.idle": "2022-04-10T10:54:52.768828Z",
          "shell.execute_reply.started": "2022-04-10T10:54:52.764582Z",
          "shell.execute_reply": "2022-04-10T10:54:52.767921Z"
        },
        "trusted": true
      },
      "execution_count": null,
      "outputs": []
    },
    {
      "cell_type": "code",
      "source": [
        "!pip install -q kaggle\n",
        "# The Kaggle API client expects this file to be in ~/.kaggle,\n",
        "# so move it there.\n",
        "!mkdir -p ~/.kaggle\n",
        "!cp kaggle.json ~/.kaggle/\n",
        "# This permissions change avoids a warning on Kaggle tool startup.\n",
        "!chmod 600 ~/.kaggle/kaggle.json\n",
        "!kaggle datasets download -d gauravsharma99/fer13-cleaned-dataset\n",
        "%mkdir -p dataset/\n",
        "!unzip -q fer13-cleaned-dataset.zip -d dataset/\n",
        "INPUT_PATH = \"/content/dataset/\""
      ],
      "metadata": {
        "colab": {
          "base_uri": "https://localhost:8080/"
        },
        "id": "NGzYT7ENJlLe",
        "outputId": "44283988-b2e9-4918-988d-be3893e6079b"
      },
      "execution_count": null,
      "outputs": [
        {
          "output_type": "stream",
          "name": "stdout",
          "text": [
            "fer13-cleaned-dataset.zip: Skipping, found more recently modified local copy (use --force to force download)\n",
            "Error in atexit._run_exitfuncs:\n",
            "Traceback (most recent call last):\n",
            "  File \"/usr/lib/python3.7/multiprocessing/util.py\", line 300, in _run_finalizers\n",
            "    finalizer()\n",
            "  File \"/usr/lib/python3.7/multiprocessing/util.py\", line 224, in __call__\n",
            "    res = self._callback(*self._args, **self._kwargs)\n",
            "  File \"/usr/lib/python3.7/multiprocessing/pool.py\", line 594, in _terminate_pool\n",
            "    worker_handler.join()\n",
            "  File \"/usr/lib/python3.7/threading.py\", line 1044, in join\n",
            "    self._wait_for_tstate_lock()\n",
            "  File \"/usr/lib/python3.7/threading.py\", line 1060, in _wait_for_tstate_lock\n",
            "    elif lock.acquire(block, timeout):\n",
            "KeyboardInterrupt\n",
            "replace dataset/Angry/Training_10017485.jpg? [y]es, [n]o, [A]ll, [N]one, [r]ename: "
          ]
        }
      ]
    },
    {
      "cell_type": "code",
      "source": [
        ""
      ],
      "metadata": {
        "execution": {
          "iopub.status.busy": "2022-04-10T10:54:52.770186Z",
          "iopub.execute_input": "2022-04-10T10:54:52.770656Z",
          "iopub.status.idle": "2022-04-10T10:54:52.777126Z",
          "shell.execute_reply.started": "2022-04-10T10:54:52.770622Z",
          "shell.execute_reply": "2022-04-10T10:54:52.776414Z"
        },
        "trusted": true,
        "id": "lkDkWKWmJY92"
      },
      "execution_count": null,
      "outputs": []
    },
    {
      "cell_type": "code",
      "source": [
        ""
      ],
      "metadata": {
        "id": "2AH3HlakVY42"
      },
      "execution_count": null,
      "outputs": []
    },
    {
      "cell_type": "code",
      "source": [
        "def print_image_distro():\n",
        "  total_images=0\n",
        "  for dir_ in os.listdir(INPUT_PATH):\n",
        "    count = 0\n",
        "    for f in os.listdir(INPUT_PATH + dir_ + \"/\"):\n",
        "        count += 1\n",
        "        total_images += 1\n",
        "    print(f\"{dir_} has {count} number of images\")\n",
        "  return total_images\n",
        "total_images = print_image_distro()\n",
        "print(f\"\\ntotal images are {total_images}\")"
      ],
      "metadata": {
        "id": "Gm-nk6zDVnBY",
        "outputId": "4126f9fb-f20a-4837-95d5-713728d212d9",
        "execution": {
          "iopub.status.busy": "2022-04-10T10:54:52.778621Z",
          "iopub.execute_input": "2022-04-10T10:54:52.778974Z",
          "iopub.status.idle": "2022-04-10T10:54:53.300315Z",
          "shell.execute_reply.started": "2022-04-10T10:54:52.778942Z",
          "shell.execute_reply": "2022-04-10T10:54:53.299628Z"
        },
        "trusted": true,
        "colab": {
          "base_uri": "https://localhost:8080/"
        }
      },
      "execution_count": null,
      "outputs": [
        {
          "output_type": "stream",
          "name": "stdout",
          "text": [
            "disgust has 380 number of images\n",
            "Angry has 5664 number of images\n",
            "Happy has 13668 number of images\n",
            "Neutral has 8590 number of images\n",
            "fear has 2535 number of images\n",
            "\n",
            "total images are 30837\n"
          ]
        }
      ]
    },
    {
      "cell_type": "code",
      "source": [
        "TOP_EMOTIONS = [\"fear\", \"Happy\", \"Neutral\", \"Angry\"]\n",
        "total_images -= 380\n",
        "total_images"
      ],
      "metadata": {
        "id": "Uq9paU3SVtlZ",
        "outputId": "dffb6f69-41bf-4374-aaea-696c3097cf78",
        "execution": {
          "iopub.status.busy": "2022-04-10T10:54:53.301725Z",
          "iopub.execute_input": "2022-04-10T10:54:53.302238Z",
          "iopub.status.idle": "2022-04-10T10:54:53.311224Z",
          "shell.execute_reply.started": "2022-04-10T10:54:53.302197Z",
          "shell.execute_reply": "2022-04-10T10:54:53.310343Z"
        },
        "trusted": true,
        "colab": {
          "base_uri": "https://localhost:8080/"
        }
      },
      "execution_count": null,
      "outputs": [
        {
          "output_type": "execute_result",
          "data": {
            "text/plain": [
              "30457"
            ]
          },
          "metadata": {},
          "execution_count": 6
        }
      ]
    },
    {
      "cell_type": "code",
      "source": [
        "def preprocess_image(image_path):\n",
        "  \"\"\" Loads image from path and preprocesses to make it model ready\n",
        "      Args:\n",
        "        image_path: Path to the image file\n",
        "  \"\"\"\n",
        "  hr_image = tf.image.decode_image(tf.io.read_file(image_path))\n",
        "  # If PNG, remove the alpha channel. The model only supports\n",
        "  # images with 3 color channels.\n",
        "  if hr_image.shape[-1] == 4:\n",
        "    hr_image = hr_image[...,:-1]\n",
        "  hr_size = (tf.convert_to_tensor(hr_image.shape[:-1]) // 4) * 4\n",
        "  hr_image = tf.image.crop_to_bounding_box(hr_image, 0, 0, hr_size[0], hr_size[1])\n",
        "  hr_image = tf.cast(hr_image, tf.float32)\n",
        "  return tf.expand_dims(hr_image, 0)\n",
        "\n",
        "def save_image(image, filename):\n",
        "  \"\"\"\n",
        "    Saves unscaled Tensor Images.\n",
        "    Args:\n",
        "      image: 3D image tensor. [height, width, channels]\n",
        "      filename: Name of the file to save.\n",
        "  \"\"\"\n",
        "  if not isinstance(image, Image.Image):\n",
        "    image = tf.clip_by_value(image, 0, 225)\n",
        "    image = Image.fromarray(tf.cast(image, tf.uint8).numpy())\n",
        "  image.save(\"%s.jpg\" % filename)\n",
        "\n",
        "%matplotlib inline\n",
        "def plot_image(image, title=\"\"):\n",
        "  \"\"\"\n",
        "    Plots images from image tensors.\n",
        "    Args:\n",
        "      image: 3D image tensor. [height, width, channels].\n",
        "      title: Title to display in the plot.\n",
        "  \"\"\"\n",
        "  image = np.asarray(image)\n",
        "  image = tf.clip_by_value(image, 0, 225)\n",
        "  image = Image.fromarray(tf.cast(image, tf.uint8).numpy())\n",
        "  plt.imshow(image)\n",
        "  plt.axis(\"off\")\n",
        "  plt.title(title)"
      ],
      "metadata": {
        "id": "k3YNaMc0Vvkc",
        "execution": {
          "iopub.status.busy": "2022-04-10T10:54:53.312952Z",
          "iopub.execute_input": "2022-04-10T10:54:53.313234Z",
          "iopub.status.idle": "2022-04-10T10:54:53.330565Z",
          "shell.execute_reply.started": "2022-04-10T10:54:53.313175Z",
          "shell.execute_reply": "2022-04-10T10:54:53.329415Z"
        },
        "trusted": true
      },
      "execution_count": null,
      "outputs": []
    },
    {
      "cell_type": "code",
      "source": [
        "SAVED_MODEL_PATH = \"https://tfhub.dev/captain-pool/esrgan-tf2/1\"\n",
        "model = hub.load(SAVED_MODEL_PATH)"
      ],
      "metadata": {
        "id": "gT7DwEaxWwFY",
        "execution": {
          "iopub.status.busy": "2022-04-10T10:54:53.332310Z",
          "iopub.execute_input": "2022-04-10T10:54:53.333392Z",
          "iopub.status.idle": "2022-04-10T10:55:01.204291Z",
          "shell.execute_reply.started": "2022-04-10T10:54:53.333355Z",
          "shell.execute_reply": "2022-04-10T10:55:01.203577Z"
        },
        "trusted": true
      },
      "execution_count": null,
      "outputs": []
    },
    {
      "cell_type": "code",
      "source": [
        "label_to_text = {}\n",
        "i = 0\n",
        "e = 0\n",
        "for dir_ in os.listdir(INPUT_PATH):\n",
        "    if dir_ in TOP_EMOTIONS:\n",
        "        label_to_text[e] = dir_\n",
        "        for f in os.listdir(INPUT_PATH + dir_ + \"/\"):\n",
        "            hr_image = cv2.imread(INPUT_PATH + dir_ + \"/\" + f)\n",
        "            hr_image = tf.convert_to_tensor(hr_image, dtype=tf.float32)\n",
        "            hr_image = tf.expand_dims(hr_image, axis=0)\n",
        "            hr_image = model(hr_image)\n",
        "            hr_image = tf.squeeze(hr_image)\n",
        "            os.remove(str(INPUT_PATH + dir_ + \"/\" + f))\n",
        "            save_image(hr_image,str(INPUT_PATH+dir_+\"/NEW\"+f))\n",
        "            i += 1\n",
        "        print(f\"loaded all {dir_} images to numpy arrays\")\n",
        "        e += 1"
      ],
      "metadata": {
        "id": "wYi3ecytV39x",
        "outputId": "ab4b4878-49cd-4ea8-d971-9562a4f67748",
        "execution": {
          "iopub.status.busy": "2022-04-10T10:55:01.207331Z",
          "iopub.execute_input": "2022-04-10T10:55:01.207544Z",
          "iopub.status.idle": "2022-04-10T10:55:01.215294Z",
          "shell.execute_reply.started": "2022-04-10T10:55:01.207519Z",
          "shell.execute_reply": "2022-04-10T10:55:01.214485Z"
        },
        "trusted": true,
        "colab": {
          "base_uri": "https://localhost:8080/"
        }
      },
      "execution_count": null,
      "outputs": [
        {
          "output_type": "stream",
          "name": "stdout",
          "text": [
            "loaded all Angry images to numpy arrays\n",
            "loaded all Happy images to numpy arrays\n",
            "loaded all Neutral images to numpy arrays\n",
            "loaded all fear images to numpy arrays\n"
          ]
        }
      ]
    },
    {
      "cell_type": "code",
      "source": [
        "label_to_text"
      ],
      "metadata": {
        "colab": {
          "base_uri": "https://localhost:8080/"
        },
        "id": "OhAs7eEUge67",
        "outputId": "621fa885-d54d-4930-c3c4-845d72d1245c"
      },
      "execution_count": null,
      "outputs": [
        {
          "output_type": "execute_result",
          "data": {
            "text/plain": [
              "{0: 'Angry', 1: 'Happy', 2: 'Neutral', 3: 'fear'}"
            ]
          },
          "metadata": {},
          "execution_count": 13
        }
      ]
    },
    {
      "cell_type": "code",
      "source": [
        "def make_highres_imgs(total_images,emotion,e):\n",
        "    img_arr = np.empty(shape=(total_images,100,100,3))\n",
        "    img_label = np.empty(shape=(total_images))\n",
        "    i = 0\n",
        "    for f in os.listdir(INPUT_PATH + emotion + '/'):\n",
        "        hr_image = cv2.imread(INPUT_PATH + emotion + \"/\" + f)\n",
        "        img_arr[i] = cv2.resize(hr_image, (100, 100),interpolation=cv2.INTER_AREA)\n",
        "        img_label[i] = e\n",
        "        i += 1\n",
        "    return img_arr, img_label"
      ],
      "metadata": {
        "execution": {
          "iopub.status.busy": "2022-04-10T10:55:01.216613Z",
          "iopub.execute_input": "2022-04-10T10:55:01.216956Z",
          "iopub.status.idle": "2022-04-10T10:55:01.226355Z",
          "shell.execute_reply.started": "2022-04-10T10:55:01.216920Z",
          "shell.execute_reply": "2022-04-10T10:55:01.225655Z"
        },
        "trusted": true,
        "id": "enLI1-EbJY97"
      },
      "execution_count": null,
      "outputs": []
    },
    {
      "cell_type": "markdown",
      "source": [
        "fear has 2535 number of images\n",
        "\n",
        "Angry has 2832 number of images\n",
        "\n",
        "Neutral has 4295 number of images\n",
        "\n",
        "disgust has 380 number of images\n",
        "\n",
        "Happy has 6834 number of images"
      ],
      "metadata": {
        "id": "ARMngTU4JY98"
      }
    },
    {
      "cell_type": "code",
      "source": [
        "#label_to_text = {0: 'Angry', 1: 'Happy', 2: 'Neutral', 3: 'fear'}"
      ],
      "metadata": {
        "execution": {
          "iopub.status.busy": "2022-04-10T10:55:01.227735Z",
          "iopub.execute_input": "2022-04-10T10:55:01.228039Z",
          "iopub.status.idle": "2022-04-10T10:55:01.234302Z",
          "shell.execute_reply.started": "2022-04-10T10:55:01.227952Z",
          "shell.execute_reply": "2022-04-10T10:55:01.233630Z"
        },
        "trusted": true,
        "id": "TLbtPnCHJY9-"
      },
      "execution_count": null,
      "outputs": []
    },
    {
      "cell_type": "code",
      "source": [
        "fear_arr , fear_label = make_highres_imgs(2535,label_to_text[3],3)"
      ],
      "metadata": {
        "execution": {
          "iopub.status.busy": "2022-04-10T10:43:25.379728Z",
          "iopub.execute_input": "2022-04-10T10:43:25.380000Z",
          "iopub.status.idle": "2022-04-10T10:44:42.680509Z",
          "shell.execute_reply.started": "2022-04-10T10:43:25.379964Z",
          "shell.execute_reply": "2022-04-10T10:44:42.679663Z"
        },
        "trusted": true,
        "id": "T8VDIAddJY9-"
      },
      "execution_count": null,
      "outputs": []
    },
    {
      "cell_type": "code",
      "source": [
        "angry_arr , angry_label = make_highres_imgs(2832,label_to_text[0],0)"
      ],
      "metadata": {
        "execution": {
          "iopub.status.busy": "2022-04-10T10:44:42.681912Z",
          "iopub.execute_input": "2022-04-10T10:44:42.682155Z",
          "iopub.status.idle": "2022-04-10T10:46:02.229775Z",
          "shell.execute_reply.started": "2022-04-10T10:44:42.682123Z",
          "shell.execute_reply": "2022-04-10T10:46:02.228779Z"
        },
        "trusted": true,
        "id": "0s2M_9CMJY9_"
      },
      "execution_count": null,
      "outputs": []
    },
    {
      "cell_type": "code",
      "source": [
        "neutral_arr , neutral_label = make_highres_imgs(4295,label_to_text[2],2)"
      ],
      "metadata": {
        "execution": {
          "iopub.status.busy": "2022-04-10T10:46:02.232205Z",
          "iopub.execute_input": "2022-04-10T10:46:02.232636Z",
          "iopub.status.idle": "2022-04-10T10:48:03.388933Z",
          "shell.execute_reply.started": "2022-04-10T10:46:02.232597Z",
          "shell.execute_reply": "2022-04-10T10:48:03.388219Z"
        },
        "trusted": true,
        "id": "dJ6e9TshJY9_"
      },
      "execution_count": null,
      "outputs": []
    },
    {
      "cell_type": "code",
      "source": [
        "happy_arr , happy_label = make_highres_imgs(6834,label_to_text[1],1)"
      ],
      "metadata": {
        "execution": {
          "iopub.status.busy": "2022-04-10T10:55:01.237346Z",
          "iopub.execute_input": "2022-04-10T10:55:01.237745Z",
          "iopub.status.idle": "2022-04-10T10:58:18.077730Z",
          "shell.execute_reply.started": "2022-04-10T10:55:01.237708Z",
          "shell.execute_reply": "2022-04-10T10:58:18.076985Z"
        },
        "trusted": true,
        "id": "Nyytn9IaJY9_"
      },
      "execution_count": null,
      "outputs": []
    },
    {
      "cell_type": "code",
      "source": [
        "img_arr = np.concatenate((fear_arr,angry_arr,neutral_arr,happy_arr),axis=0)\n",
        "img_label = np.concatenate((fear_label,angry_label,neutral_label,happy_label),axis=0)"
      ],
      "metadata": {
        "id": "_2X29ewEJY-B"
      },
      "execution_count": null,
      "outputs": []
    },
    {
      "cell_type": "code",
      "source": [
        "img_arr.shape"
      ],
      "metadata": {
        "colab": {
          "base_uri": "https://localhost:8080/"
        },
        "id": "EJiULp9xJY-B",
        "outputId": "57c08965-e703-4d7b-b78a-170d186b9a1a"
      },
      "execution_count": null,
      "outputs": [
        {
          "output_type": "execute_result",
          "data": {
            "text/plain": [
              "(16496, 100, 100, 3)"
            ]
          },
          "metadata": {},
          "execution_count": 20
        }
      ]
    },
    {
      "cell_type": "code",
      "source": [
        "img_label.shape"
      ],
      "metadata": {
        "colab": {
          "base_uri": "https://localhost:8080/"
        },
        "id": "Pp8qb8WKJY-B",
        "outputId": "07aeae31-cce4-42db-a68d-edacfa1bbb8f"
      },
      "execution_count": null,
      "outputs": [
        {
          "output_type": "execute_result",
          "data": {
            "text/plain": [
              "(16496,)"
            ]
          },
          "metadata": {},
          "execution_count": 21
        }
      ]
    },
    {
      "cell_type": "code",
      "source": [
        "np.save('img_arr',img_arr)"
      ],
      "metadata": {
        "id": "eYoWz8hNJY-B"
      },
      "execution_count": null,
      "outputs": []
    },
    {
      "cell_type": "code",
      "source": [
        "np.save('img_label',img_label)"
      ],
      "metadata": {
        "id": "qG9prK4JZMAz"
      },
      "execution_count": null,
      "outputs": []
    },
    {
      "cell_type": "code",
      "source": [
        "img_arr = np.load('/content/img_arr.npy')\n",
        "img_label = np.load('/content/img_label.npy')"
      ],
      "metadata": {
        "id": "fUc4LJRBjEeG"
      },
      "execution_count": null,
      "outputs": []
    },
    {
      "cell_type": "code",
      "source": [
        ""
      ],
      "metadata": {
        "id": "145IorukjE5K"
      },
      "execution_count": null,
      "outputs": []
    },
    {
      "cell_type": "code",
      "source": [
        "print(label_to_text)"
      ],
      "metadata": {
        "id": "1OG8KUDQ-3he",
        "outputId": "7800c08a-3085-427a-b48b-671824320123",
        "colab": {
          "base_uri": "https://localhost:8080/"
        }
      },
      "execution_count": null,
      "outputs": [
        {
          "output_type": "stream",
          "name": "stdout",
          "text": [
            "{0: 'Angry', 1: 'Happy', 2: 'Neutral', 3: 'fear'}\n"
          ]
        }
      ]
    },
    {
      "cell_type": "code",
      "source": [
        "print(img_arr.shape, img_label.shape)"
      ],
      "metadata": {
        "id": "doIIxov9pkK9",
        "outputId": "03406a9d-605d-4de7-8ecd-39a8d07a6318",
        "colab": {
          "base_uri": "https://localhost:8080/"
        }
      },
      "execution_count": null,
      "outputs": [
        {
          "output_type": "stream",
          "name": "stdout",
          "text": [
            "(16496, 100, 100, 3) (16496,)\n"
          ]
        }
      ]
    },
    {
      "cell_type": "code",
      "source": [
        "img_arr = img_arr/255"
      ],
      "metadata": {
        "id": "WXeaCBLRpned"
      },
      "execution_count": null,
      "outputs": []
    },
    {
      "cell_type": "code",
      "source": [
        "unique_elements, counts_elements = np.unique(img_label, return_counts=True)"
      ],
      "metadata": {
        "id": "H24L2L_OpqRe"
      },
      "execution_count": null,
      "outputs": []
    },
    {
      "cell_type": "code",
      "source": [
        "plt.bar(unique_elements,counts_elements)"
      ],
      "metadata": {
        "id": "FFoCHkd4rmaB",
        "outputId": "d38586fb-23bd-4f71-a041-8e5a09cbd5ca",
        "colab": {
          "base_uri": "https://localhost:8080/",
          "height": 282
        }
      },
      "execution_count": null,
      "outputs": [
        {
          "output_type": "execute_result",
          "data": {
            "text/plain": [
              "<BarContainer object of 4 artists>"
            ]
          },
          "metadata": {},
          "execution_count": 9
        },
        {
          "output_type": "display_data",
          "data": {
            "text/plain": [
              "<Figure size 432x288 with 1 Axes>"
            ],
            "image/png": "[encoded data removed]"
          },
          "metadata": {
            "needs_background": "light"
          }
        }
      ]
    },
    {
      "cell_type": "code",
      "source": [
        "X_train, X_test, y_train, y_test = train_test_split(img_arr, img_label,\n",
        "                                                    shuffle=True, stratify=img_label,\n",
        "                                                    train_size=0.9, random_state=42)\n",
        "X_train.shape, X_test.shape, y_train.shape, y_test.shape"
      ],
      "metadata": {
        "id": "Y8JdQPEasdy1",
        "outputId": "d7376ee2-bd43-4d76-ec63-6e266d24f289",
        "colab": {
          "base_uri": "https://localhost:8080/"
        }
      },
      "execution_count": null,
      "outputs": [
        {
          "output_type": "execute_result",
          "data": {
            "text/plain": [
              "((14846, 100, 100, 3), (1650, 100, 100, 3), (14846,), (1650,))"
            ]
          },
          "metadata": {},
          "execution_count": 10
        }
      ]
    },
    {
      "cell_type": "code",
      "source": [
        "X_train, X_val, y_train, y_val = train_test_split(X_train, y_train,\n",
        "                                                    shuffle=True, stratify=y_train,\n",
        "                                                    train_size=0.85, random_state=42)\n",
        "X_train.shape, X_val.shape, y_train.shape, y_val.shape"
      ],
      "metadata": {
        "id": "pY8wSJRwskvd",
        "outputId": "f1e9c836-3cd0-40f5-d78f-73196e4189fc",
        "colab": {
          "base_uri": "https://localhost:8080/"
        }
      },
      "execution_count": null,
      "outputs": [
        {
          "output_type": "execute_result",
          "data": {
            "text/plain": [
              "((12619, 100, 100, 3), (2227, 100, 100, 3), (12619,), (2227,))"
            ]
          },
          "metadata": {},
          "execution_count": 11
        }
      ]
    },
    {
      "cell_type": "code",
      "source": [
        "def set_distro(x,y):\n",
        "  unique_elements, counts_elements = np.unique(y, return_counts=True)\n",
        "  plt.bar(unique_elements,counts_elements)"
      ],
      "metadata": {
        "id": "1C81WENpsnD_"
      },
      "execution_count": null,
      "outputs": []
    },
    {
      "cell_type": "code",
      "source": [
        "set_distro(X_train, y_train)"
      ],
      "metadata": {
        "id": "GsK_LB6LADrq",
        "outputId": "e23469ef-dbb9-46a6-e32f-0849f8015c1f",
        "colab": {
          "base_uri": "https://localhost:8080/",
          "height": 265
        }
      },
      "execution_count": null,
      "outputs": [
        {
          "output_type": "display_data",
          "data": {
            "text/plain": [
              "<Figure size 432x288 with 1 Axes>"
            ],
            "image/png": "[encoded data removed]"
          },
          "metadata": {
            "needs_background": "light"
          }
        }
      ]
    },
    {
      "cell_type": "code",
      "source": [
        "set_distro(X_test, y_test)"
      ],
      "metadata": {
        "id": "wbiv711WAW7-",
        "outputId": "892ff052-8284-4502-d778-555b8e5f7314",
        "colab": {
          "base_uri": "https://localhost:8080/",
          "height": 265
        }
      },
      "execution_count": null,
      "outputs": [
        {
          "output_type": "display_data",
          "data": {
            "text/plain": [
              "<Figure size 432x288 with 1 Axes>"
            ],
            "image/png": "[encoded data removed]"
          },
          "metadata": {
            "needs_background": "light"
          }
        }
      ]
    },
    {
      "cell_type": "code",
      "source": [
        "set_distro(X_val, y_val)"
      ],
      "metadata": {
        "id": "0tzR8xjIBctq",
        "outputId": "fd3c2a39-9200-4b09-fa08-400ac73dcc82",
        "colab": {
          "base_uri": "https://localhost:8080/",
          "height": 265
        }
      },
      "execution_count": null,
      "outputs": [
        {
          "output_type": "display_data",
          "data": {
            "text/plain": [
              "<Figure size 432x288 with 1 Axes>"
            ],
            "image/png": "[encoded data removed]"
          },
          "metadata": {
            "needs_background": "light"
          }
        }
      ]
    },
    {
      "cell_type": "code",
      "source": [
        "y_train = keras.utils.to_categorical(y_train)\n",
        "y_test = keras.utils.to_categorical(y_test)\n",
        "y_val = keras.utils.to_categorical(y_val)"
      ],
      "metadata": {
        "id": "d38KXsAdBnyF"
      },
      "execution_count": null,
      "outputs": []
    },
    {
      "cell_type": "code",
      "source": [
        "img_width = X_train.shape[1]\n",
        "img_height = X_train.shape[2]\n",
        "img_depth = X_train.shape[3]\n",
        "num_classes = y_train.shape[1]"
      ],
      "metadata": {
        "id": "8iLUGSByH6gI"
      },
      "execution_count": null,
      "outputs": []
    },
    {
      "cell_type": "code",
      "source": [
        "num_classes"
      ],
      "metadata": {
        "id": "T2oPrSFMJEIQ",
        "outputId": "2df5faa4-0f3b-4c4c-a750-747280de7571",
        "colab": {
          "base_uri": "https://localhost:8080/"
        }
      },
      "execution_count": null,
      "outputs": [
        {
          "output_type": "execute_result",
          "data": {
            "text/plain": [
              "4"
            ]
          },
          "metadata": {},
          "execution_count": 18
        }
      ]
    },
    {
      "cell_type": "code",
      "source": [
        "xception = keras.applications.Xception(\n",
        "    input_shape = (img_width, img_height, img_depth),\n",
        "    include_top = False,\n",
        "    weights = \"imagenet\",\n",
        "    classes = num_classes\n",
        ")"
      ],
      "metadata": {
        "id": "x7iN4ZTljSNB",
        "outputId": "9c913504-32bb-4d97-d472-1f47d492b556",
        "colab": {
          "base_uri": "https://localhost:8080/"
        }
      },
      "execution_count": null,
      "outputs": [
        {
          "output_type": "stream",
          "name": "stdout",
          "text": [
            "Downloading data from https://storage.googleapis.com/tensorflow/keras-applications/xception/xception_weights_tf_dim_ordering_tf_kernels_notop.h5\n",
            "83689472/83683744 [==============================] - 1s 0us/step\n",
            "83697664/83683744 [==============================] - 1s 0us/step\n"
          ]
        }
      ]
    },
    {
      "cell_type": "code",
      "source": [
        "train_datagen = keras.preprocessing.image.ImageDataGenerator(\n",
        "    rotation_range=15,\n",
        "    width_shift_range=0.15,\n",
        "    height_shift_range=0.15,\n",
        "    shear_range=0.15,\n",
        "    zoom_range=0.15,\n",
        "    horizontal_flip=True,\n",
        "    zca_whitening=False,\n",
        ")\n",
        "train_datagen.fit(X_train)"
      ],
      "metadata": {
        "id": "CJZkPX3M4jEb"
      },
      "execution_count": null,
      "outputs": []
    },
    {
      "cell_type": "code",
      "source": [
        "x = xception.output\n",
        "global_pool = keras.layers.GlobalMaxPool2D(name=\"global_pool\")(x)\n",
        "out = keras.layers.Dense(num_classes, activation=\"softmax\", name=\"out_layer\")(global_pool)\n",
        "\n",
        "model = keras.models.Model(inputs=resnet.input, outputs=out)"
      ],
      "metadata": {
        "id": "DAFst6uUJSis"
      },
      "execution_count": null,
      "outputs": []
    },
    {
      "cell_type": "code",
      "source": [
        "model.summary()"
      ],
      "metadata": {
        "id": "YvPvJIKLJWVV",
        "outputId": "23cae7a1-8eed-4bfb-c7d5-5f2480806a59",
        "colab": {
          "base_uri": "https://localhost:8080/"
        }
      },
      "execution_count": null,
      "outputs": [
        {
          "output_type": "stream",
          "name": "stdout",
          "text": [
            "Model: \"model\"\n",
            "__________________________________________________________________________________________________\n",
            " Layer (type)                   Output Shape         Param #     Connected to                     \n",
            "==================================================================================================\n",
            " input_1 (InputLayer)           [(None, 100, 100, 3  0           []                               \n",
            "                                )]                                                                \n",
            "                                                                                                  \n",
            " block1_conv1 (Conv2D)          (None, 49, 49, 32)   864         ['input_1[0][0]']                \n",
            "                                                                                                  \n",
            " block1_conv1_bn (BatchNormaliz  (None, 49, 49, 32)  128         ['block1_conv1[0][0]']           \n",
            " ation)                                                                                           \n",
            "                                                                                                  \n",
            " block1_conv1_act (Activation)  (None, 49, 49, 32)   0           ['block1_conv1_bn[0][0]']        \n",
            "                                                                                                  \n",
            " block1_conv2 (Conv2D)          (None, 47, 47, 64)   18432       ['block1_conv1_act[0][0]']       \n",
            "                                                                                                  \n",
            " block1_conv2_bn (BatchNormaliz  (None, 47, 47, 64)  256         ['block1_conv2[0][0]']           \n",
            " ation)                                                                                           \n",
            "                                                                                                  \n",
            " block1_conv2_act (Activation)  (None, 47, 47, 64)   0           ['block1_conv2_bn[0][0]']        \n",
            "                                                                                                  \n",
            " block2_sepconv1 (SeparableConv  (None, 47, 47, 128)  8768       ['block1_conv2_act[0][0]']       \n",
            " 2D)                                                                                              \n",
            "                                                                                                  \n",
            " block2_sepconv1_bn (BatchNorma  (None, 47, 47, 128)  512        ['block2_sepconv1[0][0]']        \n",
            " lization)                                                                                        \n",
            "                                                                                                  \n",
            " block2_sepconv2_act (Activatio  (None, 47, 47, 128)  0          ['block2_sepconv1_bn[0][0]']     \n",
            " n)                                                                                               \n",
            "                                                                                                  \n",
            " block2_sepconv2 (SeparableConv  (None, 47, 47, 128)  17536      ['block2_sepconv2_act[0][0]']    \n",
            " 2D)                                                                                              \n",
            "                                                                                                  \n",
            " block2_sepconv2_bn (BatchNorma  (None, 47, 47, 128)  512        ['block2_sepconv2[0][0]']        \n",
            " lization)                                                                                        \n",
            "                                                                                                  \n",
            " conv2d (Conv2D)                (None, 24, 24, 128)  8192        ['block1_conv2_act[0][0]']       \n",
            "                                                                                                  \n",
            " block2_pool (MaxPooling2D)     (None, 24, 24, 128)  0           ['block2_sepconv2_bn[0][0]']     \n",
            "                                                                                                  \n",
            " batch_normalization (BatchNorm  (None, 24, 24, 128)  512        ['conv2d[0][0]']                 \n",
            " alization)                                                                                       \n",
            "                                                                                                  \n",
            " add (Add)                      (None, 24, 24, 128)  0           ['block2_pool[0][0]',            \n",
            "                                                                  'batch_normalization[0][0]']    \n",
            "                                                                                                  \n",
            " block3_sepconv1_act (Activatio  (None, 24, 24, 128)  0          ['add[0][0]']                    \n",
            " n)                                                                                               \n",
            "                                                                                                  \n",
            " block3_sepconv1 (SeparableConv  (None, 24, 24, 256)  33920      ['block3_sepconv1_act[0][0]']    \n",
            " 2D)                                                                                              \n",
            "                                                                                                  \n",
            " block3_sepconv1_bn (BatchNorma  (None, 24, 24, 256)  1024       ['block3_sepconv1[0][0]']        \n",
            " lization)                                                                                        \n",
            "                                                                                                  \n",
            " block3_sepconv2_act (Activatio  (None, 24, 24, 256)  0          ['block3_sepconv1_bn[0][0]']     \n",
            " n)                                                                                               \n",
            "                                                                                                  \n",
            " block3_sepconv2 (SeparableConv  (None, 24, 24, 256)  67840      ['block3_sepconv2_act[0][0]']    \n",
            " 2D)                                                                                              \n",
            "                                                                                                  \n",
            " block3_sepconv2_bn (BatchNorma  (None, 24, 24, 256)  1024       ['block3_sepconv2[0][0]']        \n",
            " lization)                                                                                        \n",
            "                                                                                                  \n",
            " conv2d_1 (Conv2D)              (None, 12, 12, 256)  32768       ['add[0][0]']                    \n",
            "                                                                                                  \n",
            " block3_pool (MaxPooling2D)     (None, 12, 12, 256)  0           ['block3_sepconv2_bn[0][0]']     \n",
            "                                                                                                  \n",
            " batch_normalization_1 (BatchNo  (None, 12, 12, 256)  1024       ['conv2d_1[0][0]']               \n",
            " rmalization)                                                                                     \n",
            "                                                                                                  \n",
            " add_1 (Add)                    (None, 12, 12, 256)  0           ['block3_pool[0][0]',            \n",
            "                                                                  'batch_normalization_1[0][0]']  \n",
            "                                                                                                  \n",
            " block4_sepconv1_act (Activatio  (None, 12, 12, 256)  0          ['add_1[0][0]']                  \n",
            " n)                                                                                               \n",
            "                                                                                                  \n",
            " block4_sepconv1 (SeparableConv  (None, 12, 12, 728)  188672     ['block4_sepconv1_act[0][0]']    \n",
            " 2D)                                                                                              \n",
            "                                                                                                  \n",
            " block4_sepconv1_bn (BatchNorma  (None, 12, 12, 728)  2912       ['block4_sepconv1[0][0]']        \n",
            " lization)                                                                                        \n",
            "                                                                                                  \n",
            " block4_sepconv2_act (Activatio  (None, 12, 12, 728)  0          ['block4_sepconv1_bn[0][0]']     \n",
            " n)                                                                                               \n",
            "                                                                                                  \n",
            " block4_sepconv2 (SeparableConv  (None, 12, 12, 728)  536536     ['block4_sepconv2_act[0][0]']    \n",
            " 2D)                                                                                              \n",
            "                                                                                                  \n",
            " block4_sepconv2_bn (BatchNorma  (None, 12, 12, 728)  2912       ['block4_sepconv2[0][0]']        \n",
            " lization)                                                                                        \n",
            "                                                                                                  \n",
            " conv2d_2 (Conv2D)              (None, 6, 6, 728)    186368      ['add_1[0][0]']                  \n",
            "                                                                                                  \n",
            " block4_pool (MaxPooling2D)     (None, 6, 6, 728)    0           ['block4_sepconv2_bn[0][0]']     \n",
            "                                                                                                  \n",
            " batch_normalization_2 (BatchNo  (None, 6, 6, 728)   2912        ['conv2d_2[0][0]']               \n",
            " rmalization)                                                                                     \n",
            "                                                                                                  \n",
            " add_2 (Add)                    (None, 6, 6, 728)    0           ['block4_pool[0][0]',            \n",
            "                                                                  'batch_normalization_2[0][0]']  \n",
            "                                                                                                  \n",
            " block5_sepconv1_act (Activatio  (None, 6, 6, 728)   0           ['add_2[0][0]']                  \n",
            " n)                                                                                               \n",
            "                                                                                                  \n",
            " block5_sepconv1 (SeparableConv  (None, 6, 6, 728)   536536      ['block5_sepconv1_act[0][0]']    \n",
            " 2D)                                                                                              \n",
            "                                                                                                  \n",
            " block5_sepconv1_bn (BatchNorma  (None, 6, 6, 728)   2912        ['block5_sepconv1[0][0]']        \n",
            " lization)                                                                                        \n",
            "                                                                                                  \n",
            " block5_sepconv2_act (Activatio  (None, 6, 6, 728)   0           ['block5_sepconv1_bn[0][0]']     \n",
            " n)                                                                                               \n",
            "                                                                                                  \n",
            " block5_sepconv2 (SeparableConv  (None, 6, 6, 728)   536536      ['block5_sepconv2_act[0][0]']    \n",
            " 2D)                                                                                              \n",
            "                                                                                                  \n",
            " block5_sepconv2_bn (BatchNorma  (None, 6, 6, 728)   2912        ['block5_sepconv2[0][0]']        \n",
            " lization)                                                                                        \n",
            "                                                                                                  \n",
            " block5_sepconv3_act (Activatio  (None, 6, 6, 728)   0           ['block5_sepconv2_bn[0][0]']     \n",
            " n)                                                                                               \n",
            "                                                                                                  \n",
            " block5_sepconv3 (SeparableConv  (None, 6, 6, 728)   536536      ['block5_sepconv3_act[0][0]']    \n",
            " 2D)                                                                                              \n",
            "                                                                                                  \n",
            " block5_sepconv3_bn (BatchNorma  (None, 6, 6, 728)   2912        ['block5_sepconv3[0][0]']        \n",
            " lization)                                                                                        \n",
            "                                                                                                  \n",
            " add_3 (Add)                    (None, 6, 6, 728)    0           ['block5_sepconv3_bn[0][0]',     \n",
            "                                                                  'add_2[0][0]']                  \n",
            "                                                                                                  \n",
            " block6_sepconv1_act (Activatio  (None, 6, 6, 728)   0           ['add_3[0][0]']                  \n",
            " n)                                                                                               \n",
            "                                                                                                  \n",
            " block6_sepconv1 (SeparableConv  (None, 6, 6, 728)   536536      ['block6_sepconv1_act[0][0]']    \n",
            " 2D)                                                                                              \n",
            "                                                                                                  \n",
            " block6_sepconv1_bn (BatchNorma  (None, 6, 6, 728)   2912        ['block6_sepconv1[0][0]']        \n",
            " lization)                                                                                        \n",
            "                                                                                                  \n",
            " block6_sepconv2_act (Activatio  (None, 6, 6, 728)   0           ['block6_sepconv1_bn[0][0]']     \n",
            " n)                                                                                               \n",
            "                                                                                                  \n",
            " block6_sepconv2 (SeparableConv  (None, 6, 6, 728)   536536      ['block6_sepconv2_act[0][0]']    \n",
            " 2D)                                                                                              \n",
            "                                                                                                  \n",
            " block6_sepconv2_bn (BatchNorma  (None, 6, 6, 728)   2912        ['block6_sepconv2[0][0]']        \n",
            " lization)                                                                                        \n",
            "                                                                                                  \n",
            " block6_sepconv3_act (Activatio  (None, 6, 6, 728)   0           ['block6_sepconv2_bn[0][0]']     \n",
            " n)                                                                                               \n",
            "                                                                                                  \n",
            " block6_sepconv3 (SeparableConv  (None, 6, 6, 728)   536536      ['block6_sepconv3_act[0][0]']    \n",
            " 2D)                                                                                              \n",
            "                                                                                                  \n",
            " block6_sepconv3_bn (BatchNorma  (None, 6, 6, 728)   2912        ['block6_sepconv3[0][0]']        \n",
            " lization)                                                                                        \n",
            "                                                                                                  \n",
            " add_4 (Add)                    (None, 6, 6, 728)    0           ['block6_sepconv3_bn[0][0]',     \n",
            "                                                                  'add_3[0][0]']                  \n",
            "                                                                                                  \n",
            " block7_sepconv1_act (Activatio  (None, 6, 6, 728)   0           ['add_4[0][0]']                  \n",
            " n)                                                                                               \n",
            "                                                                                                  \n",
            " block7_sepconv1 (SeparableConv  (None, 6, 6, 728)   536536      ['block7_sepconv1_act[0][0]']    \n",
            " 2D)                                                                                              \n",
            "                                                                                                  \n",
            " block7_sepconv1_bn (BatchNorma  (None, 6, 6, 728)   2912        ['block7_sepconv1[0][0]']        \n",
            " lization)                                                                                        \n",
            "                                                                                                  \n",
            " block7_sepconv2_act (Activatio  (None, 6, 6, 728)   0           ['block7_sepconv1_bn[0][0]']     \n",
            " n)                                                                                               \n",
            "                                                                                                  \n",
            " block7_sepconv2 (SeparableConv  (None, 6, 6, 728)   536536      ['block7_sepconv2_act[0][0]']    \n",
            " 2D)                                                                                              \n",
            "                                                                                                  \n",
            " block7_sepconv2_bn (BatchNorma  (None, 6, 6, 728)   2912        ['block7_sepconv2[0][0]']        \n",
            " lization)                                                                                        \n",
            "                                                                                                  \n",
            " block7_sepconv3_act (Activatio  (None, 6, 6, 728)   0           ['block7_sepconv2_bn[0][0]']     \n",
            " n)                                                                                               \n",
            "                                                                                                  \n",
            " block7_sepconv3 (SeparableConv  (None, 6, 6, 728)   536536      ['block7_sepconv3_act[0][0]']    \n",
            " 2D)                                                                                              \n",
            "                                                                                                  \n",
            " block7_sepconv3_bn (BatchNorma  (None, 6, 6, 728)   2912        ['block7_sepconv3[0][0]']        \n",
            " lization)                                                                                        \n",
            "                                                                                                  \n",
            " add_5 (Add)                    (None, 6, 6, 728)    0           ['block7_sepconv3_bn[0][0]',     \n",
            "                                                                  'add_4[0][0]']                  \n",
            "                                                                                                  \n",
            " block8_sepconv1_act (Activatio  (None, 6, 6, 728)   0           ['add_5[0][0]']                  \n",
            " n)                                                                                               \n",
            "                                                                                                  \n",
            " block8_sepconv1 (SeparableConv  (None, 6, 6, 728)   536536      ['block8_sepconv1_act[0][0]']    \n",
            " 2D)                                                                                              \n",
            "                                                                                                  \n",
            " block8_sepconv1_bn (BatchNorma  (None, 6, 6, 728)   2912        ['block8_sepconv1[0][0]']        \n",
            " lization)                                                                                        \n",
            "                                                                                                  \n",
            " block8_sepconv2_act (Activatio  (None, 6, 6, 728)   0           ['block8_sepconv1_bn[0][0]']     \n",
            " n)                                                                                               \n",
            "                                                                                                  \n",
            " block8_sepconv2 (SeparableConv  (None, 6, 6, 728)   536536      ['block8_sepconv2_act[0][0]']    \n",
            " 2D)                                                                                              \n",
            "                                                                                                  \n",
            " block8_sepconv2_bn (BatchNorma  (None, 6, 6, 728)   2912        ['block8_sepconv2[0][0]']        \n",
            " lization)                                                                                        \n",
            "                                                                                                  \n",
            " block8_sepconv3_act (Activatio  (None, 6, 6, 728)   0           ['block8_sepconv2_bn[0][0]']     \n",
            " n)                                                                                               \n",
            "                                                                                                  \n",
            " block8_sepconv3 (SeparableConv  (None, 6, 6, 728)   536536      ['block8_sepconv3_act[0][0]']    \n",
            " 2D)                                                                                              \n",
            "                                                                                                  \n",
            " block8_sepconv3_bn (BatchNorma  (None, 6, 6, 728)   2912        ['block8_sepconv3[0][0]']        \n",
            " lization)                                                                                        \n",
            "                                                                                                  \n",
            " add_6 (Add)                    (None, 6, 6, 728)    0           ['block8_sepconv3_bn[0][0]',     \n",
            "                                                                  'add_5[0][0]']                  \n",
            "                                                                                                  \n",
            " block9_sepconv1_act (Activatio  (None, 6, 6, 728)   0           ['add_6[0][0]']                  \n",
            " n)                                                                                               \n",
            "                                                                                                  \n",
            " block9_sepconv1 (SeparableConv  (None, 6, 6, 728)   536536      ['block9_sepconv1_act[0][0]']    \n",
            " 2D)                                                                                              \n",
            "                                                                                                  \n",
            " block9_sepconv1_bn (BatchNorma  (None, 6, 6, 728)   2912        ['block9_sepconv1[0][0]']        \n",
            " lization)                                                                                        \n",
            "                                                                                                  \n",
            " block9_sepconv2_act (Activatio  (None, 6, 6, 728)   0           ['block9_sepconv1_bn[0][0]']     \n",
            " n)                                                                                               \n",
            "                                                                                                  \n",
            " block9_sepconv2 (SeparableConv  (None, 6, 6, 728)   536536      ['block9_sepconv2_act[0][0]']    \n",
            " 2D)                                                                                              \n",
            "                                                                                                  \n",
            " block9_sepconv2_bn (BatchNorma  (None, 6, 6, 728)   2912        ['block9_sepconv2[0][0]']        \n",
            " lization)                                                                                        \n",
            "                                                                                                  \n",
            " block9_sepconv3_act (Activatio  (None, 6, 6, 728)   0           ['block9_sepconv2_bn[0][0]']     \n",
            " n)                                                                                               \n",
            "                                                                                                  \n",
            " block9_sepconv3 (SeparableConv  (None, 6, 6, 728)   536536      ['block9_sepconv3_act[0][0]']    \n",
            " 2D)                                                                                              \n",
            "                                                                                                  \n",
            " block9_sepconv3_bn (BatchNorma  (None, 6, 6, 728)   2912        ['block9_sepconv3[0][0]']        \n",
            " lization)                                                                                        \n",
            "                                                                                                  \n",
            " add_7 (Add)                    (None, 6, 6, 728)    0           ['block9_sepconv3_bn[0][0]',     \n",
            "                                                                  'add_6[0][0]']                  \n",
            "                                                                                                  \n",
            " block10_sepconv1_act (Activati  (None, 6, 6, 728)   0           ['add_7[0][0]']                  \n",
            " on)                                                                                              \n",
            "                                                                                                  \n",
            " block10_sepconv1 (SeparableCon  (None, 6, 6, 728)   536536      ['block10_sepconv1_act[0][0]']   \n",
            " v2D)                                                                                             \n",
            "                                                                                                  \n",
            " block10_sepconv1_bn (BatchNorm  (None, 6, 6, 728)   2912        ['block10_sepconv1[0][0]']       \n",
            " alization)                                                                                       \n",
            "                                                                                                  \n",
            " block10_sepconv2_act (Activati  (None, 6, 6, 728)   0           ['block10_sepconv1_bn[0][0]']    \n",
            " on)                                                                                              \n",
            "                                                                                                  \n",
            " block10_sepconv2 (SeparableCon  (None, 6, 6, 728)   536536      ['block10_sepconv2_act[0][0]']   \n",
            " v2D)                                                                                             \n",
            "                                                                                                  \n",
            " block10_sepconv2_bn (BatchNorm  (None, 6, 6, 728)   2912        ['block10_sepconv2[0][0]']       \n",
            " alization)                                                                                       \n",
            "                                                                                                  \n",
            " block10_sepconv3_act (Activati  (None, 6, 6, 728)   0           ['block10_sepconv2_bn[0][0]']    \n",
            " on)                                                                                              \n",
            "                                                                                                  \n",
            " block10_sepconv3 (SeparableCon  (None, 6, 6, 728)   536536      ['block10_sepconv3_act[0][0]']   \n",
            " v2D)                                                                                             \n",
            "                                                                                                  \n",
            " block10_sepconv3_bn (BatchNorm  (None, 6, 6, 728)   2912        ['block10_sepconv3[0][0]']       \n",
            " alization)                                                                                       \n",
            "                                                                                                  \n",
            " add_8 (Add)                    (None, 6, 6, 728)    0           ['block10_sepconv3_bn[0][0]',    \n",
            "                                                                  'add_7[0][0]']                  \n",
            "                                                                                                  \n",
            " block11_sepconv1_act (Activati  (None, 6, 6, 728)   0           ['add_8[0][0]']                  \n",
            " on)                                                                                              \n",
            "                                                                                                  \n",
            " block11_sepconv1 (SeparableCon  (None, 6, 6, 728)   536536      ['block11_sepconv1_act[0][0]']   \n",
            " v2D)                                                                                             \n",
            "                                                                                                  \n",
            " block11_sepconv1_bn (BatchNorm  (None, 6, 6, 728)   2912        ['block11_sepconv1[0][0]']       \n",
            " alization)                                                                                       \n",
            "                                                                                                  \n",
            " block11_sepconv2_act (Activati  (None, 6, 6, 728)   0           ['block11_sepconv1_bn[0][0]']    \n",
            " on)                                                                                              \n",
            "                                                                                                  \n",
            " block11_sepconv2 (SeparableCon  (None, 6, 6, 728)   536536      ['block11_sepconv2_act[0][0]']   \n",
            " v2D)                                                                                             \n",
            "                                                                                                  \n",
            " block11_sepconv2_bn (BatchNorm  (None, 6, 6, 728)   2912        ['block11_sepconv2[0][0]']       \n",
            " alization)                                                                                       \n",
            "                                                                                                  \n",
            " block11_sepconv3_act (Activati  (None, 6, 6, 728)   0           ['block11_sepconv2_bn[0][0]']    \n",
            " on)                                                                                              \n",
            "                                                                                                  \n",
            " block11_sepconv3 (SeparableCon  (None, 6, 6, 728)   536536      ['block11_sepconv3_act[0][0]']   \n",
            " v2D)                                                                                             \n",
            "                                                                                                  \n",
            " block11_sepconv3_bn (BatchNorm  (None, 6, 6, 728)   2912        ['block11_sepconv3[0][0]']       \n",
            " alization)                                                                                       \n",
            "                                                                                                  \n",
            " add_9 (Add)                    (None, 6, 6, 728)    0           ['block11_sepconv3_bn[0][0]',    \n",
            "                                                                  'add_8[0][0]']                  \n",
            "                                                                                                  \n",
            " block12_sepconv1_act (Activati  (None, 6, 6, 728)   0           ['add_9[0][0]']                  \n",
            " on)                                                                                              \n",
            "                                                                                                  \n",
            " block12_sepconv1 (SeparableCon  (None, 6, 6, 728)   536536      ['block12_sepconv1_act[0][0]']   \n",
            " v2D)                                                                                             \n",
            "                                                                                                  \n",
            " block12_sepconv1_bn (BatchNorm  (None, 6, 6, 728)   2912        ['block12_sepconv1[0][0]']       \n",
            " alization)                                                                                       \n",
            "                                                                                                  \n",
            " block12_sepconv2_act (Activati  (None, 6, 6, 728)   0           ['block12_sepconv1_bn[0][0]']    \n",
            " on)                                                                                              \n",
            "                                                                                                  \n",
            " block12_sepconv2 (SeparableCon  (None, 6, 6, 728)   536536      ['block12_sepconv2_act[0][0]']   \n",
            " v2D)                                                                                             \n",
            "                                                                                                  \n",
            " block12_sepconv2_bn (BatchNorm  (None, 6, 6, 728)   2912        ['block12_sepconv2[0][0]']       \n",
            " alization)                                                                                       \n",
            "                                                                                                  \n",
            " block12_sepconv3_act (Activati  (None, 6, 6, 728)   0           ['block12_sepconv2_bn[0][0]']    \n",
            " on)                                                                                              \n",
            "                                                                                                  \n",
            " block12_sepconv3 (SeparableCon  (None, 6, 6, 728)   536536      ['block12_sepconv3_act[0][0]']   \n",
            " v2D)                                                                                             \n",
            "                                                                                                  \n",
            " block12_sepconv3_bn (BatchNorm  (None, 6, 6, 728)   2912        ['block12_sepconv3[0][0]']       \n",
            " alization)                                                                                       \n",
            "                                                                                                  \n",
            " add_10 (Add)                   (None, 6, 6, 728)    0           ['block12_sepconv3_bn[0][0]',    \n",
            "                                                                  'add_9[0][0]']                  \n",
            "                                                                                                  \n",
            " block13_sepconv1_act (Activati  (None, 6, 6, 728)   0           ['add_10[0][0]']                 \n",
            " on)                                                                                              \n",
            "                                                                                                  \n",
            " block13_sepconv1 (SeparableCon  (None, 6, 6, 728)   536536      ['block13_sepconv1_act[0][0]']   \n",
            " v2D)                                                                                             \n",
            "                                                                                                  \n",
            " block13_sepconv1_bn (BatchNorm  (None, 6, 6, 728)   2912        ['block13_sepconv1[0][0]']       \n",
            " alization)                                                                                       \n",
            "                                                                                                  \n",
            " block13_sepconv2_act (Activati  (None, 6, 6, 728)   0           ['block13_sepconv1_bn[0][0]']    \n",
            " on)                                                                                              \n",
            "                                                                                                  \n",
            " block13_sepconv2 (SeparableCon  (None, 6, 6, 1024)  752024      ['block13_sepconv2_act[0][0]']   \n",
            " v2D)                                                                                             \n",
            "                                                                                                  \n",
            " block13_sepconv2_bn (BatchNorm  (None, 6, 6, 1024)  4096        ['block13_sepconv2[0][0]']       \n",
            " alization)                                                                                       \n",
            "                                                                                                  \n",
            " conv2d_3 (Conv2D)              (None, 3, 3, 1024)   745472      ['add_10[0][0]']                 \n",
            "                                                                                                  \n",
            " block13_pool (MaxPooling2D)    (None, 3, 3, 1024)   0           ['block13_sepconv2_bn[0][0]']    \n",
            "                                                                                                  \n",
            " batch_normalization_3 (BatchNo  (None, 3, 3, 1024)  4096        ['conv2d_3[0][0]']               \n",
            " rmalization)                                                                                     \n",
            "                                                                                                  \n",
            " add_11 (Add)                   (None, 3, 3, 1024)   0           ['block13_pool[0][0]',           \n",
            "                                                                  'batch_normalization_3[0][0]']  \n",
            "                                                                                                  \n",
            " block14_sepconv1 (SeparableCon  (None, 3, 3, 1536)  1582080     ['add_11[0][0]']                 \n",
            " v2D)                                                                                             \n",
            "                                                                                                  \n",
            " block14_sepconv1_bn (BatchNorm  (None, 3, 3, 1536)  6144        ['block14_sepconv1[0][0]']       \n",
            " alization)                                                                                       \n",
            "                                                                                                  \n",
            " block14_sepconv1_act (Activati  (None, 3, 3, 1536)  0           ['block14_sepconv1_bn[0][0]']    \n",
            " on)                                                                                              \n",
            "                                                                                                  \n",
            " block14_sepconv2 (SeparableCon  (None, 3, 3, 2048)  3159552     ['block14_sepconv1_act[0][0]']   \n",
            " v2D)                                                                                             \n",
            "                                                                                                  \n",
            " block14_sepconv2_bn (BatchNorm  (None, 3, 3, 2048)  8192        ['block14_sepconv2[0][0]']       \n",
            " alization)                                                                                       \n",
            "                                                                                                  \n",
            " block14_sepconv2_act (Activati  (None, 3, 3, 2048)  0           ['block14_sepconv2_bn[0][0]']    \n",
            " on)                                                                                              \n",
            "                                                                                                  \n",
            " global_pool (GlobalMaxPooling2  (None, 2048)        0           ['block14_sepconv2_act[0][0]']   \n",
            " D)                                                                                               \n",
            "                                                                                                  \n",
            " out_layer (Dense)              (None, 4)            8196        ['global_pool[0][0]']            \n",
            "                                                                                                  \n",
            "==================================================================================================\n",
            "Total params: 20,869,676\n",
            "Trainable params: 20,815,148\n",
            "Non-trainable params: 54,528\n",
            "__________________________________________________________________________________________________\n"
          ]
        }
      ]
    },
    {
      "cell_type": "code",
      "source": [
        "filepath=\"/content/resnet-{epoch:02d}-{val_accuracy:.2f}.hdf5\""
      ],
      "metadata": {
        "id": "xyAca7kqJYNN"
      },
      "execution_count": null,
      "outputs": []
    },
    {
      "cell_type": "code",
      "source": [
        "model_checkpoint_callback = keras.callbacks.ModelCheckpoint(\n",
        "    filepath = filepath,\n",
        "    save_weights_only=True,\n",
        "    monitor='val_accuracy',\n",
        "    mode='max',\n",
        "    save_best_only=True)"
      ],
      "metadata": {
        "id": "qSfwbmZpJeyg"
      },
      "execution_count": null,
      "outputs": []
    },
    {
      "cell_type": "code",
      "source": [
        "batch_size = 16\n",
        "epochs = 50\n",
        "model.compile(optimizer='adam',\n",
        "              loss='categorical_crossentropy',\n",
        "              metrics=['accuracy'])"
      ],
      "metadata": {
        "id": "U7RTrR00JhfH"
      },
      "execution_count": null,
      "outputs": []
    },
    {
      "cell_type": "code",
      "source": [
        "history = model.fit(\n",
        "    train_datagen.flow(X_train, y_train, batch_size=batch_size),\n",
        "    validation_data=(X_val, y_val),\n",
        "    steps_per_epoch=len(X_train) / batch_size,\n",
        "    epochs=epochs,\n",
        "    use_multiprocessing=True,\n",
        "    callbacks = [model_checkpoint_callback]\n",
        ")"
      ],
      "metadata": {
        "id": "e2fTYVaWJjEb",
        "outputId": "40b4a557-3f02-4386-a111-ca1f3b33f553",
        "colab": {
          "base_uri": "https://localhost:8080/"
        }
      },
      "execution_count": null,
      "outputs": [
        {
          "output_type": "stream",
          "name": "stdout",
          "text": [
            "Epoch 1/50\n",
            "788/788 [==============================] - 209s 242ms/step - loss: 1.1244 - accuracy: 0.5033 - val_loss: 1.0186 - val_accuracy: 0.6197\n",
            "Epoch 2/50\n",
            "788/788 [==============================] - 185s 235ms/step - loss: 0.8909 - accuracy: 0.6328 - val_loss: 0.8601 - val_accuracy: 0.6430\n",
            "Epoch 3/50\n",
            "788/788 [==============================] - 186s 235ms/step - loss: 0.8129 - accuracy: 0.6705 - val_loss: 0.7623 - val_accuracy: 0.6996\n",
            "Epoch 4/50\n",
            "788/788 [==============================] - 185s 234ms/step - loss: 0.7415 - accuracy: 0.7055 - val_loss: 0.7893 - val_accuracy: 0.6991\n",
            "Epoch 5/50\n",
            "788/788 [==============================] - 186s 235ms/step - loss: 0.7077 - accuracy: 0.7241 - val_loss: 0.7289 - val_accuracy: 0.7243\n",
            "Epoch 6/50\n",
            "788/788 [==============================] - 185s 234ms/step - loss: 0.6905 - accuracy: 0.7282 - val_loss: 0.7237 - val_accuracy: 0.7086\n",
            "Epoch 7/50\n",
            "788/788 [==============================] - 184s 234ms/step - loss: 0.6610 - accuracy: 0.7437 - val_loss: 0.7895 - val_accuracy: 0.7140\n",
            "Epoch 8/50\n",
            "788/788 [==============================] - 185s 234ms/step - loss: 0.6330 - accuracy: 0.7550 - val_loss: 0.6470 - val_accuracy: 0.7598\n",
            "Epoch 9/50\n",
            "788/788 [==============================] - 184s 233ms/step - loss: 0.6164 - accuracy: 0.7629 - val_loss: 0.8037 - val_accuracy: 0.7216\n",
            "Epoch 10/50\n",
            "788/788 [==============================] - 184s 234ms/step - loss: 0.5913 - accuracy: 0.7751 - val_loss: 0.7093 - val_accuracy: 0.7458\n",
            "Epoch 11/50\n",
            "788/788 [==============================] - 185s 234ms/step - loss: 0.5768 - accuracy: 0.7806 - val_loss: 0.7112 - val_accuracy: 0.7391\n",
            "Epoch 12/50\n",
            "788/788 [==============================] - 185s 234ms/step - loss: 0.5571 - accuracy: 0.7868 - val_loss: 0.6318 - val_accuracy: 0.7476\n",
            "Epoch 13/50\n",
            "788/788 [==============================] - 190s 240ms/step - loss: 0.5371 - accuracy: 0.7963 - val_loss: 0.6142 - val_accuracy: 0.7773\n",
            "Epoch 14/50\n",
            "788/788 [==============================] - 185s 234ms/step - loss: 0.5316 - accuracy: 0.7928 - val_loss: 0.6517 - val_accuracy: 0.7571\n",
            "Epoch 15/50\n",
            "788/788 [==============================] - 184s 234ms/step - loss: 0.5242 - accuracy: 0.8015 - val_loss: 0.7014 - val_accuracy: 0.7616\n",
            "Epoch 16/50\n",
            "788/788 [==============================] - 184s 233ms/step - loss: 0.5017 - accuracy: 0.8111 - val_loss: 0.6775 - val_accuracy: 0.7485\n",
            "Epoch 17/50\n",
            "788/788 [==============================] - 185s 234ms/step - loss: 0.4815 - accuracy: 0.8162 - val_loss: 0.6632 - val_accuracy: 0.7656\n",
            "Epoch 18/50\n",
            "788/788 [==============================] - 185s 234ms/step - loss: 0.4738 - accuracy: 0.8193 - val_loss: 0.7278 - val_accuracy: 0.7382\n",
            "Epoch 19/50\n",
            "788/788 [==============================] - 185s 234ms/step - loss: 0.4565 - accuracy: 0.8274 - val_loss: 0.6336 - val_accuracy: 0.7678\n",
            "Epoch 20/50\n",
            "788/788 [==============================] - 185s 234ms/step - loss: 0.4518 - accuracy: 0.8298 - val_loss: 0.6802 - val_accuracy: 0.7625\n",
            "Epoch 21/50\n",
            "788/788 [==============================] - 185s 234ms/step - loss: 0.4286 - accuracy: 0.8357 - val_loss: 0.6560 - val_accuracy: 0.7777\n",
            "Epoch 22/50\n",
            "788/788 [==============================] - 185s 235ms/step - loss: 0.5088 - accuracy: 0.8137 - val_loss: 0.6022 - val_accuracy: 0.7836\n",
            "Epoch 23/50\n",
            "788/788 [==============================] - 185s 234ms/step - loss: 0.4154 - accuracy: 0.8465 - val_loss: 0.6510 - val_accuracy: 0.7732\n",
            "Epoch 24/50\n",
            "788/788 [==============================] - 184s 233ms/step - loss: 0.3984 - accuracy: 0.8517 - val_loss: 0.7842 - val_accuracy: 0.7539\n",
            "Epoch 25/50\n",
            "788/788 [==============================] - 185s 234ms/step - loss: 0.3871 - accuracy: 0.8553 - val_loss: 0.6666 - val_accuracy: 0.7714\n",
            "Epoch 26/50\n",
            "788/788 [==============================] - 184s 234ms/step - loss: 0.3908 - accuracy: 0.8566 - val_loss: 0.6687 - val_accuracy: 0.7764\n",
            "Epoch 27/50\n",
            "788/788 [==============================] - 185s 234ms/step - loss: 0.3627 - accuracy: 0.8670 - val_loss: 0.7007 - val_accuracy: 0.7656\n",
            "Epoch 28/50\n",
            "788/788 [==============================] - 185s 234ms/step - loss: 0.3512 - accuracy: 0.8689 - val_loss: 0.7689 - val_accuracy: 0.7539\n",
            "Epoch 29/50\n",
            "788/788 [==============================] - 184s 233ms/step - loss: 0.3349 - accuracy: 0.8736 - val_loss: 0.9553 - val_accuracy: 0.7045\n",
            "Epoch 30/50\n",
            "788/788 [==============================] - 185s 234ms/step - loss: 0.3304 - accuracy: 0.8763 - val_loss: 0.7891 - val_accuracy: 0.7750\n",
            "Epoch 31/50\n",
            "788/788 [==============================] - 185s 234ms/step - loss: 0.3245 - accuracy: 0.8813 - val_loss: 0.7471 - val_accuracy: 0.7656\n",
            "Epoch 32/50\n",
            "788/788 [==============================] - 185s 234ms/step - loss: 0.3085 - accuracy: 0.8857 - val_loss: 0.7037 - val_accuracy: 0.7818\n",
            "Epoch 33/50\n",
            "788/788 [==============================] - 185s 234ms/step - loss: 0.2886 - accuracy: 0.8957 - val_loss: 0.8055 - val_accuracy: 0.7634\n",
            "Epoch 34/50\n",
            "788/788 [==============================] - 185s 234ms/step - loss: 0.2790 - accuracy: 0.8982 - val_loss: 0.7550 - val_accuracy: 0.7620\n",
            "Epoch 35/50\n",
            "788/788 [==============================] - 184s 234ms/step - loss: 0.2976 - accuracy: 0.8946 - val_loss: 0.7930 - val_accuracy: 0.7499\n",
            "Epoch 36/50\n",
            "788/788 [==============================] - 184s 233ms/step - loss: 0.2756 - accuracy: 0.8998 - val_loss: 0.7849 - val_accuracy: 0.7580\n",
            "Epoch 37/50\n",
            "788/788 [==============================] - 184s 234ms/step - loss: 0.2571 - accuracy: 0.9037 - val_loss: 0.7988 - val_accuracy: 0.7625\n",
            "Epoch 38/50\n",
            "788/788 [==============================] - 185s 234ms/step - loss: 0.2455 - accuracy: 0.9105 - val_loss: 0.7884 - val_accuracy: 0.7674\n",
            "Epoch 39/50\n",
            "788/788 [==============================] - 189s 239ms/step - loss: 0.2404 - accuracy: 0.9158 - val_loss: 0.7671 - val_accuracy: 0.7602\n",
            "Epoch 40/50\n",
            "788/788 [==============================] - 185s 234ms/step - loss: 0.2299 - accuracy: 0.9127 - val_loss: 0.8567 - val_accuracy: 0.7755\n",
            "Epoch 41/50\n",
            "788/788 [==============================] - 184s 233ms/step - loss: 0.2214 - accuracy: 0.9185 - val_loss: 0.9618 - val_accuracy: 0.7508\n",
            "Epoch 42/50\n",
            "788/788 [==============================] - 184s 234ms/step - loss: 0.2062 - accuracy: 0.9244 - val_loss: 0.8642 - val_accuracy: 0.7611\n",
            "Epoch 43/50\n",
            "788/788 [==============================] - 185s 234ms/step - loss: 0.2049 - accuracy: 0.9265 - val_loss: 0.9623 - val_accuracy: 0.7409\n",
            "Epoch 44/50\n",
            "788/788 [==============================] - 185s 234ms/step - loss: 0.2124 - accuracy: 0.9231 - val_loss: 0.8706 - val_accuracy: 0.7665\n",
            "Epoch 45/50\n",
            "788/788 [==============================] - 185s 235ms/step - loss: 0.1897 - accuracy: 0.9308 - val_loss: 0.8470 - val_accuracy: 0.7894\n",
            "Epoch 46/50\n",
            "788/788 [==============================] - 185s 234ms/step - loss: 0.1875 - accuracy: 0.9308 - val_loss: 1.3093 - val_accuracy: 0.7387\n",
            "Epoch 47/50\n",
            "788/788 [==============================] - 185s 235ms/step - loss: 0.1789 - accuracy: 0.9349 - val_loss: 1.0317 - val_accuracy: 0.7382\n",
            "Epoch 48/50\n",
            "788/788 [==============================] - 185s 234ms/step - loss: 0.1799 - accuracy: 0.9334 - val_loss: 0.8699 - val_accuracy: 0.7683\n",
            "Epoch 49/50\n",
            "788/788 [==============================] - 186s 235ms/step - loss: 0.1648 - accuracy: 0.9387 - val_loss: 0.9944 - val_accuracy: 0.7746\n",
            "Epoch 50/50\n",
            "788/788 [==============================] - 186s 235ms/step - loss: 0.1672 - accuracy: 0.9384 - val_loss: 0.9637 - val_accuracy: 0.7548\n"
          ]
        }
      ]
    },
    {
      "cell_type": "code",
      "source": [
        "sns.set()\n",
        "fig = pyplot.figure(0, (12, 4))\n",
        "\n",
        "ax = pyplot.subplot(1, 2, 1)\n",
        "sns.lineplot(history.epoch, history.history['accuracy'], label='train')\n",
        "sns.lineplot(history.epoch, history.history['val_accuracy'], label='valid')\n",
        "pyplot.title('Accuracy')\n",
        "pyplot.tight_layout()\n",
        "\n",
        "ax = pyplot.subplot(1, 2, 2)\n",
        "sns.lineplot(history.epoch, history.history['loss'], label='train')\n",
        "sns.lineplot(history.epoch, history.history['val_loss'], label='valid')\n",
        "pyplot.title('Loss')\n",
        "pyplot.tight_layout()\n",
        "\n",
        "pyplot.savefig('epoch_history_mobilenet.png')\n",
        "pyplot.show()"
      ],
      "metadata": {
        "id": "EJu2arq2Jkhg",
        "colab": {
          "base_uri": "https://localhost:8080/",
          "height": 280
        },
        "outputId": "ebdd5e14-6188-44b8-e244-824645c1df66"
      },
      "execution_count": null,
      "outputs": [
        {
          "output_type": "stream",
          "name": "stderr",
          "text": [
            "/usr/local/lib/python3.7/dist-packages/seaborn/_decorators.py:43: FutureWarning: Pass the following variables as keyword args: x, y. From version 0.12, the only valid positional argument will be `data`, and passing other arguments without an explicit keyword will result in an error or misinterpretation.\n",
            "  FutureWarning\n",
            "/usr/local/lib/python3.7/dist-packages/seaborn/_decorators.py:43: FutureWarning: Pass the following variables as keyword args: x, y. From version 0.12, the only valid positional argument will be `data`, and passing other arguments without an explicit keyword will result in an error or misinterpretation.\n",
            "  FutureWarning\n",
            "/usr/local/lib/python3.7/dist-packages/seaborn/_decorators.py:43: FutureWarning: Pass the following variables as keyword args: x, y. From version 0.12, the only valid positional argument will be `data`, and passing other arguments without an explicit keyword will result in an error or misinterpretation.\n",
            "  FutureWarning\n",
            "/usr/local/lib/python3.7/dist-packages/seaborn/_decorators.py:43: FutureWarning: Pass the following variables as keyword args: x, y. From version 0.12, the only valid positional argument will be `data`, and passing other arguments without an explicit keyword will result in an error or misinterpretation.\n",
            "  FutureWarning\n"
          ]
        },
        {
          "output_type": "display_data",
          "data": {
            "text/plain": [
              "<Figure size 864x288 with 2 Axes>"
            ],
            "image/png": "[encoded data removed]"
          },
          "metadata": {}
        }
      ]
    },
    {
      "cell_type": "code",
      "source": [
        "model.load_weights('/content/xception-28-0.79.hdf5')  "
      ],
      "metadata": {
        "id": "dcu1obTwg460"
      },
      "execution_count": null,
      "outputs": []
    },
    {
      "cell_type": "code",
      "source": [
        "yhat_test = np.argmax(model.predict(X_test), axis=1)\n",
        "ytest_ = np.argmax(y_test, axis=1)\n",
        "\n",
        "scikitplot.metrics.plot_confusion_matrix(ytest_, yhat_test, figsize=(7,7))\n",
        "pyplot.savefig(\"confusion_matrix_mobilenet.png\")\n",
        "\n",
        "test_accu = np.sum(ytest_ == yhat_test) / len(ytest_) * 100\n",
        "print(f\"test accuracy: {round(test_accu, 4)} %\\n\\n\")\n",
        "\n",
        "print(classification_report(ytest_, yhat_test))\n"
      ],
      "metadata": {
        "id": "gmDG9-pjNkwX",
        "colab": {
          "base_uri": "https://localhost:8080/",
          "height": 582
        },
        "outputId": "35af4d0b-73b2-4988-a185-2ec00839bcf3"
      },
      "execution_count": null,
      "outputs": [
        {
          "output_type": "stream",
          "name": "stdout",
          "text": [
            "test accuracy: 75.7576 %\n",
            "\n",
            "\n",
            "              precision    recall  f1-score   support\n",
            "\n",
            "           0       0.75      0.52      0.62       283\n",
            "           1       0.91      0.88      0.90       684\n",
            "           2       0.67      0.77      0.72       430\n",
            "           3       0.57      0.66      0.61       253\n",
            "\n",
            "    accuracy                           0.76      1650\n",
            "   macro avg       0.72      0.71      0.71      1650\n",
            "weighted avg       0.77      0.76      0.76      1650\n",
            "\n"
          ]
        },
        {
          "output_type": "display_data",
          "data": {
            "text/plain": [
              "<Figure size 504x504 with 2 Axes>"
            ],
            "image/png": "[encoded data removed]"
          },
          "metadata": {}
        }
      ]
    },
    {
      "cell_type": "code",
      "source": [
        "from keras.preprocessing import image\n",
        "img = image.load_img('/content/dataset/Happy/Training_10000426.jpg',target_size = (48,48),color_mode = \"grayscale\")\n",
        "img = np.array(img)\n",
        "plt.imshow(img)\n",
        "print(img.shape)"
      ],
      "metadata": {
        "id": "7swwFUpPPBGe"
      },
      "execution_count": null,
      "outputs": []
    },
    {
      "cell_type": "code",
      "source": [
        "from PIL import Image\n",
        "import numpy as np\n",
        "from skimage import transform\n",
        "def load(filename):\n",
        "   np_image = Image.open(filename)\n",
        "   np_image = np.array(np_image).astype('float32')/255\n",
        "   np_image = transform.resize(np_image, (100, 100, 3))\n",
        "   np_image = np.expand_dims(np_image, axis=0)\n",
        "   return np_image\n",
        "\n",
        "image = load('/content/dataset/Happy/Training_10000426.jpg')\n",
        "\n",
        "result=model.predict(image)\n",
        "result = list(result[0])\n",
        "print(result)"
      ],
      "metadata": {
        "id": "ShoLwXF4N6uH"
      },
      "execution_count": null,
      "outputs": []
    },
    {
      "cell_type": "code",
      "source": [
        "img_index = result.index(max(result))\n",
        "print(label_to_text[img_index])\n",
        "plt.show()"
      ],
      "metadata": {
        "id": "Yxmw60PEOV8y"
      },
      "execution_count": null,
      "outputs": []
    },
    {
      "cell_type": "code",
      "source": [
        "model.save('/content/')"
      ],
      "metadata": {
        "id": "BTpjo9W8Pd8h"
      },
      "execution_count": null,
      "outputs": []
    },
    {
      "cell_type": "code",
      "source": [
        "loaded_model = tf.keras.models.load_model('/content/')"
      ],
      "metadata": {
        "id": "HnDxBtiPQI5x"
      },
      "execution_count": null,
      "outputs": []
    },
    {
      "cell_type": "code",
      "source": [
        "loaded_model.summary()"
      ],
      "metadata": {
        "id": "eh3wqbIhQTI2"
      },
      "execution_count": null,
      "outputs": []
    },
    {
      "cell_type": "code",
      "source": [
        ""
      ],
      "metadata": {
        "id": "Kka6nYkyWJ7t"
      },
      "execution_count": null,
      "outputs": []
    }
  ]
}